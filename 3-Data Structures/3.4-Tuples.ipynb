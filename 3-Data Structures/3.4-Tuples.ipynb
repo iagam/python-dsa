{
 "cells": [
  {
   "cell_type": "markdown",
   "id": "05070110",
   "metadata": {},
   "source": [
    "# Tuples\n",
    "\n",
    "\n",
    "1. Introduction to Tuples  \n",
    "2. Creating Tuples  \n",
    "3. Accessing Tuple Elements  \n",
    "4. Tuple Operations  \n",
    "5. Immutable Nature of Tuples  \n",
    "6. Tuple Methods  \n",
    "7. Packing and Unpacking Tuples  \n",
    "8. Nested Tuples  \n",
    "9. Practical Examples and Common Errors  \n",
    "\n",
    "#### Tuples are ordered collections of items that are immutable. They are similar to lists but immutability makes them different.\n"
   ]
  },
  {
   "cell_type": "code",
   "execution_count": 1,
   "id": "260441e2",
   "metadata": {},
   "outputs": [
    {
     "name": "stdout",
     "output_type": "stream",
     "text": [
      "Empty tuple: ()\n",
      "Type of empty_tuple: <class 'tuple'>\n"
     ]
    }
   ],
   "source": [
    "## Creating a tuple\n",
    "empty_tuple = ()  # Creating an empty tuple\n",
    "print(\"Empty tuple:\", empty_tuple)\n",
    "print(\"Type of empty_tuple:\", type(empty_tuple))"
   ]
  },
  {
   "cell_type": "code",
   "execution_count": 7,
   "id": "e5b07b86",
   "metadata": {},
   "outputs": [
    {
     "name": "stdout",
     "output_type": "stream",
     "text": [
      "Single element tuple: (1,)\n",
      "Multi-element tuple: (1, 2, 3)\n",
      "Mixed tuple: (1, 'two', 3.0, True)\n"
     ]
    }
   ],
   "source": [
    "## Creating a tuple with one element using a tuple literal\n",
    "single_element_tuple = tuple([1])  # Using tuple() constructor\n",
    "print(\"Single element tuple:\", single_element_tuple)\n",
    "\n",
    "## Creating a tuple with multiple elements\n",
    "multi_element_tuple = (1, 2, 3)  # Using parentheses\n",
    "print(\"Multi-element tuple:\", multi_element_tuple)\n",
    "\n",
    "## Creating a tuple with mixed data types\n",
    "mixed_tuple = (1, \"two\", 3.0, True)  # Mixed data types\n",
    "print(\"Mixed tuple:\", mixed_tuple)\n",
    "\n"
   ]
  },
  {
   "cell_type": "code",
   "execution_count": null,
   "id": "918218bc",
   "metadata": {},
   "outputs": [
    {
     "name": "stdout",
     "output_type": "stream",
     "text": [
      "Tuple example: (1, 2, 3, 4, 5)\n",
      "First element: 1\n",
      "Last element: 5\n",
      "Slicing from index 1 to 3: (2, 3, 4)\n",
      "Slicing from start to index 3: (1, 2, 3, 4)\n",
      "Reversed tuple: (5, 4, 3, 2, 1)\n"
     ]
    }
   ],
   "source": [
    "## Accessing tuple elements\n",
    "tuple_example = (1, 2, 3, 4, 5)\n",
    "print(\"Tuple example:\", tuple_example)\n",
    "print(\"First element:\", tuple_example[0])  # Accessing first element\n",
    "print(\"Last element:\", tuple_example[-1])  # Accessing last element\n",
    "## Slicing a tuple\n",
    "print(\"Slicing from index 1 to 3:\", tuple_example[1:4])\n",
    "print(\"Slicing from start to index 3:\", tuple_example[:4])\n",
    "\n",
    "## Reversing a tuple\n",
    "reversed_tuple = tuple_example[::-1]  # Reversing the tuple\n",
    "print(\"Reversed tuple:\", reversed_tuple)"
   ]
  },
  {
   "cell_type": "code",
   "execution_count": 11,
   "id": "4a619f01",
   "metadata": {},
   "outputs": [
    {
     "name": "stdout",
     "output_type": "stream",
     "text": [
      "Tuple1: (1, 2, 3)\n",
      "Tuple2: (4, 5, 6)\n",
      "Concatenated tuple: (1, 2, 3, 4, 5, 6)\n",
      "Repeated tuple: (1, 2, 3, 1, 2, 3)\n"
     ]
    }
   ],
   "source": [
    "## Tuple operations\n",
    "tuple1 = (1, 2, 3)\n",
    "tuple2 = (4, 5, 6)\n",
    "print(\"Tuple1:\", tuple1)\n",
    "print(\"Tuple2:\", tuple2)\n",
    "print(\"Concatenated tuple:\", tuple1 + tuple2)  # Concatenation\n",
    "print(\"Repeated tuple:\", tuple1 * 2)  # Repetition"
   ]
  },
  {
   "cell_type": "code",
   "execution_count": 16,
   "id": "57dfe4c8",
   "metadata": {},
   "outputs": [
    {
     "name": "stdout",
     "output_type": "stream",
     "text": [
      "For example, let's take a list and try to change an element:\n",
      "Original list: [1, 2, 3]\n",
      "Updated list: [10, 2, 3]\n",
      "This works because lists are mutable.\n",
      "\n",
      "Now, lets do the same with a tuple:\n",
      "Original tuple: (1, 2, 3)\n",
      "Attempting to change the first element of the tuple to 10:\n",
      "Error: 'tuple' object does not support item assignment\n"
     ]
    }
   ],
   "source": [
    "## Immutable Nature of Tuples\n",
    "## Tuples are immutable, meaning their elements cannot be changed after creation.\n",
    "\n",
    "print(f'For example, let\\'s take a list and try to change an element:')\n",
    "my_list = [1, 2, 3]\n",
    "print(f'Original list: {my_list}')\n",
    "my_list[0] = 10\n",
    "print(f'Updated list: {my_list}')\n",
    "print('This works because lists are mutable.')\n",
    "print()\n",
    "\n",
    "print(f'Now, lets do the same with a tuple:')\n",
    "my_tuple = (1, 2, 3)\n",
    "print(f'Original tuple: {my_tuple}')\n",
    "# Attempting to change an element in a tuple will raise a TypeError\n",
    "try:\n",
    "    print(f'Attempting to change the first element of the tuple to 10:')\n",
    "    my_tuple[0] = 10\n",
    "except TypeError as e:\n",
    "    print(f'Error: {e}')"
   ]
  },
  {
   "cell_type": "code",
   "execution_count": 18,
   "id": "fd7feaed",
   "metadata": {},
   "outputs": [
    {
     "name": "stdout",
     "output_type": "stream",
     "text": [
      "Tuple methods:\n",
      "First method is count()\n",
      "Count of 3 in numbers: 1\n",
      "Count of 6 in numbers: 0\n",
      "\n",
      "Second method is index()\n",
      "Index of 3 in numbers: 2\n",
      "Error: tuple.index(x): x not in tuple\n"
     ]
    }
   ],
   "source": [
    "## Tuple methods\n",
    "print(\"Tuple methods:\")\n",
    "print(f'First method is count()')\n",
    "numbers = (1, 2, 3, 4, 5)\n",
    "print(f'Count of 3 in numbers: {numbers.count(3)}')\n",
    "print(f'Count of 6 in numbers: {numbers.count(6)}')  # 6 is not in the tuple, so count will be 0\n",
    "print()\n",
    "\n",
    "print(f'Second method is index()')\n",
    "print(f'Index of 3 in numbers: {numbers.index(3)}')  # Returns the index of the first occurrence of 3\n",
    "try:\n",
    "    print(f'Index of 6 in numbers: {numbers.index(6)}')  # Raises ValueError since 6 is not in the tuple\n",
    "except ValueError as e:\n",
    "    print(f'Error: {e}')"
   ]
  },
  {
   "cell_type": "code",
   "execution_count": 21,
   "id": "328199c5",
   "metadata": {},
   "outputs": [
    {
     "name": "stdout",
     "output_type": "stream",
     "text": [
      "Packed tuple: (1, 'two', 3.0)\n",
      "\n",
      "Unpacked values: 1 two 3.0\n",
      "1\n",
      "two\n",
      "3.0\n"
     ]
    }
   ],
   "source": [
    "## Packing and Unpacking Tuples\n",
    "# Packing a tuple\n",
    "packed_tuple = 1, \"two\", 3.0\n",
    "print(\"Packed tuple:\", packed_tuple)\n",
    "print()\n",
    "\n",
    "# Unpacking a tuple\n",
    "a, b, c = packed_tuple\n",
    "print(\"Unpacked values:\", a, b, c)\n",
    "print(a)\n",
    "print(b)\n",
    "print(c)"
   ]
  },
  {
   "cell_type": "code",
   "execution_count": 22,
   "id": "dc7e9984",
   "metadata": {},
   "outputs": [
    {
     "name": "stdout",
     "output_type": "stream",
     "text": [
      "Unpacked values with asterisk:\n",
      "a: 1\n",
      "b: 2\n",
      "rest: [3, 4, 5]\n"
     ]
    }
   ],
   "source": [
    "## Unpacking with asterisk\n",
    "# Unpacking with asterisk to collect remaining elements\n",
    "packed_tuple = (1, 2, 3, 4, 5)\n",
    "a, b, *rest = packed_tuple\n",
    "print(\"Unpacked values with asterisk:\")\n",
    "print(\"a:\", a)\n",
    "print(\"b:\", b)\n",
    "print(\"rest:\", rest)  # rest will contain the remaining elements as a list"
   ]
  },
  {
   "cell_type": "code",
   "execution_count": 26,
   "id": "dc826bc3",
   "metadata": {},
   "outputs": [
    {
     "name": "stdout",
     "output_type": "stream",
     "text": [
      "Nested tuple: (1, (2, 3), (4, 5, 6))\n",
      "Accessing nested elements: 2\n",
      "Length of nested tuple: 3\n",
      "Length of inner tuple: 2\n"
     ]
    }
   ],
   "source": [
    "## Nested Tuples\n",
    "nested_tuple = (1, (2, 3), (4, 5, 6))\n",
    "print(\"Nested tuple:\", nested_tuple)\n",
    "print(\"Accessing nested elements:\", nested_tuple[1][0])  # Accessing an element in a nested tuple\n",
    "print(\"Length of nested tuple:\", len(nested_tuple))  # Length of the outer tuple\n",
    "print(\"Length of inner tuple:\", len(nested_tuple[1]))"
   ]
  },
  {
   "cell_type": "code",
   "execution_count": 32,
   "id": "1daea4be",
   "metadata": {},
   "outputs": [
    {
     "name": "stdout",
     "output_type": "stream",
     "text": [
      "2 3 \n",
      "4 5 6 \n"
     ]
    }
   ],
   "source": [
    "## Iterating through a tuple\n",
    "nested_tuple = ((2, 3), (4, 5, 6))\n",
    "for item in nested_tuple:\n",
    "    for sub_item in item:\n",
    "        print(sub_item, end=' ')\n",
    "    print()  # Print a newline after iterating through the nested tuple\n"
   ]
  },
  {
   "cell_type": "code",
   "execution_count": 27,
   "id": "d287fb5e",
   "metadata": {},
   "outputs": [
    {
     "name": "stdout",
     "output_type": "stream",
     "text": [
      "Tuple comprehension: (0, 2, 4, 6, 8)\n"
     ]
    }
   ],
   "source": [
    "## Tuple Comprehensions\n",
    "# Tuples do not have comprehensions like lists, but you can create a tuple using a generator expression\n",
    "tuple_comprehension = tuple(x * 2 for x in range(5))\n",
    "print(\"Tuple comprehension:\", tuple_comprehension)\n"
   ]
  },
  {
   "cell_type": "code",
   "execution_count": 28,
   "id": "ad2e8429",
   "metadata": {},
   "outputs": [
    {
     "name": "stdout",
     "output_type": "stream",
     "text": [
      "Dictionary with tuple key: {(1, 2): 'value associated with tuple key'}\n"
     ]
    }
   ],
   "source": [
    "## Tuples as Dictionary Keys\n",
    "# Tuples can be used as keys in dictionaries because they are immutable\n",
    "tuple_key = (1, 2)\n",
    "dictionary = {tuple_key: \"value associated with tuple key\"}\n",
    "print(\"Dictionary with tuple key:\", dictionary)"
   ]
  },
  {
   "cell_type": "markdown",
   "id": "d1835b12",
   "metadata": {},
   "source": [
    "### Conclusion\n",
    "\n",
    "Tuples are versatile and useful in many real-world scenarios where an immutable and ordered collection of items is required. They are commonly used in data structures, function arguments and return values, and as dictionary keys. Understanding how to leverage tuples effectively can improve the efficiency and readability of your Python code.\n"
   ]
  }
 ],
 "metadata": {
  "kernelspec": {
   "display_name": "venv",
   "language": "python",
   "name": "python3"
  },
  "language_info": {
   "codemirror_mode": {
    "name": "ipython",
    "version": 3
   },
   "file_extension": ".py",
   "mimetype": "text/x-python",
   "name": "python",
   "nbconvert_exporter": "python",
   "pygments_lexer": "ipython3",
   "version": "3.12.2"
  }
 },
 "nbformat": 4,
 "nbformat_minor": 5
}
