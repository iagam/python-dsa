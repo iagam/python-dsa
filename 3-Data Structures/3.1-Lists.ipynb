{
 "cells": [
  {
   "cell_type": "markdown",
   "id": "a4df9dd5",
   "metadata": {},
   "source": [
    "## Lists\n",
    "\n",
    "Lists are ordered mutable collections of items and can contain items of different data types."
   ]
  },
  {
   "cell_type": "markdown",
   "id": "6fe92b89",
   "metadata": {},
   "source": [
    "1. Introduction to Lists\n",
    "2. Creating Lists\n",
    "3. Accessing List Elements\n",
    "4. Modifying List Elements\n",
    "5. List Methods\n",
    "6. Slicing Lists\n",
    "7. Iterating Over Lists\n",
    "8. List Comprehensions\n",
    "9. Nested Lists\n",
    "10. Practical Examples and Common Errors\n"
   ]
  },
  {
   "cell_type": "code",
   "execution_count": 1,
   "id": "d4ce7997",
   "metadata": {},
   "outputs": [
    {
     "name": "stdout",
     "output_type": "stream",
     "text": [
      "<class 'list'>\n"
     ]
    }
   ],
   "source": [
    "lst = []\n",
    "print(type(lst))"
   ]
  },
  {
   "cell_type": "code",
   "execution_count": 2,
   "id": "bf61fb7d",
   "metadata": {},
   "outputs": [
    {
     "name": "stdout",
     "output_type": "stream",
     "text": [
      "<class 'list'>\n",
      "['Alice', 'Bob', 'Charlie']\n"
     ]
    }
   ],
   "source": [
    "names = [\"Alice\", \"Bob\", \"Charlie\"]\n",
    "print(type(names))\n",
    "print(names)"
   ]
  },
  {
   "cell_type": "code",
   "execution_count": 3,
   "id": "ccce0504",
   "metadata": {},
   "outputs": [
    {
     "name": "stdout",
     "output_type": "stream",
     "text": [
      "<class 'list'>\n",
      "[1, 'two', 3.0, True]\n"
     ]
    }
   ],
   "source": [
    "mixed_list = [1, \"two\", 3.0, True]\n",
    "print(type(mixed_list))\n",
    "print(mixed_list)"
   ]
  },
  {
   "cell_type": "code",
   "execution_count": 30,
   "id": "f6fb6028",
   "metadata": {},
   "outputs": [
    {
     "name": "stdout",
     "output_type": "stream",
     "text": [
      "Accessing elements in a list:\n",
      "Get first element: apple\n",
      "Get last element: nectarine\n",
      "Get elements from index 2 to 4: ['cherry', 'date', 'lemon']\n"
     ]
    }
   ],
   "source": [
    "## Accessing List Elements\n",
    "print(\"Accessing elements in a list:\")\n",
    "fruits = [\"apple\", \"banana\", \"cherry\", \"date\", \"lemon\", \"mango\", \"nectarine\"]\n",
    "print(f'Get first element: {fruits[0]}')  # First element\n",
    "print(f\"Get last element: {fruits[-1]}\")  # Last element\n",
    "print(f'Get elements from index 2 to 4: {fruits[2:5]}')  # Slicing from index 2 to 4"
   ]
  },
  {
   "cell_type": "code",
   "execution_count": 31,
   "id": "de5db910",
   "metadata": {},
   "outputs": [
    {
     "name": "stdout",
     "output_type": "stream",
     "text": [
      "Modifying elements in a list:\n",
      "After modification: ['apricot', 'banana', 'cherry', 'date', 'lemon', 'mango', 'orange']\n"
     ]
    }
   ],
   "source": [
    "## Modification of List Elements\n",
    "print(\"Modifying elements in a list:\")\n",
    "fruits[0] = \"apricot\"  # Change first element\n",
    "fruits[-1] = \"orange\"  # Change last element\n",
    "print(f'After modification: {fruits}')"
   ]
  },
  {
   "cell_type": "code",
   "execution_count": 32,
   "id": "5c939d9b",
   "metadata": {},
   "outputs": [
    {
     "name": "stdout",
     "output_type": "stream",
     "text": [
      "Adding elements to a list:\n",
      "After append: ['apricot', 'banana', 'cherry', 'date', 'lemon', 'mango', 'orange', 'papaya']\n"
     ]
    }
   ],
   "source": [
    "## List Methods\n",
    "## Adding Elements\n",
    "print(\"Adding elements to a list:\")\n",
    "fruits.append(\"papaya\")  # Add to the end\n",
    "print(f'After append: {fruits}')"
   ]
  },
  {
   "cell_type": "code",
   "execution_count": 33,
   "id": "b6356c5a",
   "metadata": {},
   "outputs": [
    {
     "name": "stdout",
     "output_type": "stream",
     "text": [
      "Inserting elements into a list:\n",
      "After insert: ['apricot', 'banana', 'kiwi', 'cherry', 'date', 'lemon', 'mango', 'orange', 'papaya']\n",
      "\n"
     ]
    }
   ],
   "source": [
    "## Inserting Elements\n",
    "print(\"Inserting elements into a list:\")\n",
    "fruits.insert(2, \"kiwi\")  # Insert at index 2\n",
    "print(f\"After insert: {fruits}\")\n",
    "print()"
   ]
  },
  {
   "cell_type": "code",
   "execution_count": 34,
   "id": "1f90cee0",
   "metadata": {},
   "outputs": [
    {
     "name": "stdout",
     "output_type": "stream",
     "text": [
      "Removing elements from a list:\n",
      "After remove: ['apricot', 'banana', 'kiwi', 'cherry', 'date', 'mango', 'orange', 'papaya']\n"
     ]
    }
   ],
   "source": [
    "## Removing Elements\n",
    "## Removes the first occurrence of a value\n",
    "print(\"Removing elements from a list:\")\n",
    "fruits.remove(\"lemon\")  # Remove by value\n",
    "print(f'After remove: {fruits}')"
   ]
  },
  {
   "cell_type": "code",
   "execution_count": 35,
   "id": "81a67672",
   "metadata": {},
   "outputs": [
    {
     "name": "stdout",
     "output_type": "stream",
     "text": [
      "Popping elements from a list:\n",
      "After pop: ['apricot', 'banana', 'kiwi', 'cherry', 'date', 'mango', 'orange']\n",
      "Removed element: papaya\n"
     ]
    }
   ],
   "source": [
    "## Remove and return the last element\n",
    "print(\"Popping elements from a list:\")\n",
    "last_fruit = fruits.pop()  # Remove last element\n",
    "print(f'After pop: {fruits}')\n",
    "print(f'Removed element: {last_fruit}')"
   ]
  },
  {
   "cell_type": "code",
   "execution_count": 36,
   "id": "74696342",
   "metadata": {},
   "outputs": [
    {
     "name": "stdout",
     "output_type": "stream",
     "text": [
      "Finding index of an element in a list:\n",
      "Index of cherry: 3\n"
     ]
    }
   ],
   "source": [
    "## Get the index of an element\n",
    "print(\"Finding index of an element in a list:\")\n",
    "index_of_cherry = fruits.index(\"cherry\")  # Find index of \"cherry\"\n",
    "print(f'Index of cherry: {index_of_cherry}')"
   ]
  },
  {
   "cell_type": "code",
   "execution_count": 37,
   "id": "27f1f3bd",
   "metadata": {},
   "outputs": [
    {
     "name": "stdout",
     "output_type": "stream",
     "text": [
      "Counting occurrences of an element in a list:\n",
      "Count of apple: 0\n",
      "Count of banana: 1\n"
     ]
    }
   ],
   "source": [
    "## Get the count of an element\n",
    "print(\"Counting occurrences of an element in a list:\")\n",
    "count_of_apple = fruits.count(\"apple\")  # Count occurrences of \"apple\"\n",
    "count_of_banana = fruits.count(\"banana\")  # Count occurrences of \"banana\"\n",
    "print(f'Count of apple: {count_of_apple}')\n",
    "print(f\"Count of banana: {count_of_banana}\")"
   ]
  },
  {
   "cell_type": "code",
   "execution_count": 41,
   "id": "4da93bf7",
   "metadata": {},
   "outputs": [
    {
     "name": "stdout",
     "output_type": "stream",
     "text": [
      "['apricot', 'banana', 'cherry', 'date', 'kiwi', 'mango', 'orange']\n",
      "Sorting a list:\n",
      "After sort: ['apricot', 'banana', 'cherry', 'date', 'kiwi', 'mango', 'orange']\n"
     ]
    }
   ],
   "source": [
    "## Sorting Lists\n",
    "print(fruits)\n",
    "print(\"Sorting a list:\")\n",
    "fruits.sort()  # Sort the list in place\n",
    "print(f'After sort: {fruits}')"
   ]
  },
  {
   "cell_type": "code",
   "execution_count": 42,
   "id": "d9f0ef20",
   "metadata": {},
   "outputs": [
    {
     "name": "stdout",
     "output_type": "stream",
     "text": [
      "['apricot', 'banana', 'cherry', 'date', 'kiwi', 'mango', 'orange']\n",
      "Reversing a list:\n",
      "After reverse: ['orange', 'mango', 'kiwi', 'date', 'cherry', 'banana', 'apricot']\n"
     ]
    }
   ],
   "source": [
    "## Reversing Lists\n",
    "print(fruits)\n",
    "print(\"Reversing a list:\")\n",
    "fruits.reverse()  # Reverse the list in place\n",
    "print(f'After reverse: {fruits}')"
   ]
  },
  {
   "cell_type": "code",
   "execution_count": 43,
   "id": "5627c401",
   "metadata": {},
   "outputs": [
    {
     "name": "stdout",
     "output_type": "stream",
     "text": [
      "Clearing a list:\n",
      "After clear: []\n"
     ]
    }
   ],
   "source": [
    "## Clearing Lists\n",
    "print(\"Clearing a list:\")\n",
    "fruits.clear()  # Remove all elements\n",
    "print(f'After clear: {fruits}')"
   ]
  },
  {
   "cell_type": "code",
   "execution_count": 44,
   "id": "6c31481e",
   "metadata": {},
   "outputs": [
    {
     "name": "stdout",
     "output_type": "stream",
     "text": [
      "Slicing a list:\n",
      "First three elements: [1, 2, 3]\n",
      "Last three elements: [7, 8, 9]\n",
      "Elements from index 2 to 5: [3, 4, 5, 6]\n",
      "Every second element: [1, 3, 5, 7, 9]\n",
      "Elements in reverse order: [9, 8, 7, 6, 5, 4, 3, 2, 1]\n",
      "Every second element in reverse order: [9, 7, 5, 3, 1]\n"
     ]
    }
   ],
   "source": [
    "## Slicing Lists\n",
    "numbers = [1, 2, 3, 4, 5, 6, 7, 8, 9]\n",
    "print(\"Slicing a list:\")\n",
    "print(f'First three elements: {numbers[:3]}')  # First three elements\n",
    "print(f'Last three elements: {numbers[-3:]}')  # Last three elements\n",
    "print(f'Elements from index 2 to 5: {numbers[2:6]}')  # Elements from index 2 to 5\n",
    "print(f'Every second element: {numbers[::2]}')  # Every second element\n",
    "print(f'Elements in reverse order: {numbers[::-1]}')  # Elements in reverse order\n",
    "print(f\"Every second element in reverse order: {numbers[::-2]}\")  # Elements in reverse order"
   ]
  },
  {
   "cell_type": "code",
   "execution_count": 45,
   "id": "fd00c366",
   "metadata": {},
   "outputs": [
    {
     "name": "stdout",
     "output_type": "stream",
     "text": [
      "Iterating over a list:\n",
      "Current fruit: apple\n",
      "Current fruit: banana\n",
      "Current fruit: cherry\n",
      "Current fruit: date\n",
      "Current fruit: lemon\n",
      "Current fruit: mango\n",
      "Current fruit: nectarine\n"
     ]
    }
   ],
   "source": [
    "## Iterating over lists\n",
    "print(\"Iterating over a list:\")\n",
    "fruits = [\"apple\", \"banana\", \"cherry\", \"date\", \"lemon\", \"mango\", \"nectarine\"]\n",
    "for fruit in fruits:\n",
    "    print(f'Current fruit: {fruit}')"
   ]
  },
  {
   "cell_type": "code",
   "execution_count": null,
   "id": "5b9f4da4",
   "metadata": {},
   "outputs": [
    {
     "name": "stdout",
     "output_type": "stream",
     "text": [
      "Iterating over a list with index:\n",
      "Index: 0, Fruit: apple\n",
      "Index: 1, Fruit: banana\n",
      "Index: 2, Fruit: cherry\n",
      "Index: 3, Fruit: date\n",
      "Index: 4, Fruit: lemon\n",
      "Index: 5, Fruit: mango\n",
      "Index: 6, Fruit: nectarine\n"
     ]
    }
   ],
   "source": [
    "## Iterating over lists with index\n",
    "fruits = [\"apple\", \"banana\", \"cherry\", \"date\", \"lemon\", \"mango\", \"nectarine\"]\n",
    "print(\"Iterating over a list with index:\")\n",
    "for index, fruit in enumerate(fruits):\n",
    "    print(f'Index: {index}, Fruit: {fruit}')"
   ]
  },
  {
   "cell_type": "markdown",
   "id": "94745411",
   "metadata": {},
   "source": [
    "### List comprehensions\n",
    "\n",
    "Basic syntax                            [expression for item in iterable]\n",
    "\n",
    "With conditional logic                  [expression for item in iterable if condition]\n",
    "\n",
    "Nested list comprehension               [expression for item1 in iterable1 for item2 in iterable2]"
   ]
  },
  {
   "cell_type": "code",
   "execution_count": 49,
   "id": "e22a05c3",
   "metadata": {},
   "outputs": [
    {
     "name": "stdout",
     "output_type": "stream",
     "text": [
      "List comprehensions:\n",
      "Squares: [0, 1, 4, 9, 16, 25, 36, 49, 64, 81]\n",
      "\n",
      "List comprehensions with condition:\n",
      "Even numbers: [0, 2, 4, 6, 8]\n"
     ]
    }
   ],
   "source": [
    "## List Comprehensions\n",
    "print(\"List comprehensions:\")\n",
    "squares = [x**2 for x in range(10)]  # List of squares\n",
    "print(f'Squares: {squares}')\n",
    "print()\n",
    "\n",
    "print(\"List comprehensions with condition:\")\n",
    "evens = [x for x in range(10) if x % 2 == 0]  # List of even numbers\n",
    "print(f'Even numbers: {evens}')"
   ]
  },
  {
   "cell_type": "code",
   "execution_count": 51,
   "id": "310241f8",
   "metadata": {},
   "outputs": [
    {
     "name": "stdout",
     "output_type": "stream",
     "text": [
      "Nested list comprehensions:\n",
      "Nested list: [(1, 'a'), (1, 'b'), (1, 'c'), (1, 'd'), (1, 'e'), (2, 'a'), (2, 'b'), (2, 'c'), (2, 'd'), (2, 'e'), (3, 'a'), (3, 'b'), (3, 'c'), (3, 'd'), (3, 'e'), (4, 'a'), (4, 'b'), (4, 'c'), (4, 'd'), (4, 'e'), (5, 'a'), (5, 'b'), (5, 'c'), (5, 'd'), (5, 'e')]\n"
     ]
    }
   ],
   "source": [
    "## Nested list comprehensions\n",
    "print(\"Nested list comprehensions:\")\n",
    "lst1 = [1,2,3,4,5]\n",
    "lst2 = ['a','b','c','d','e']\n",
    "nested_list = [(i,j) for i in lst1 for j in lst2]  # Nested list comprehension\n",
    "print(f'Nested list: {nested_list}')"
   ]
  },
  {
   "cell_type": "code",
   "execution_count": 52,
   "id": "b712ce1b",
   "metadata": {},
   "outputs": [
    {
     "name": "stdout",
     "output_type": "stream",
     "text": [
      "List comprehensions with function calls:\n",
      "Lengths of words: [5, 5, 6, 4]\n"
     ]
    }
   ],
   "source": [
    "## List comprehensions with function calls\n",
    "print(\"List comprehensions with function calls:\")\n",
    "words = [\"hello\", \"world\", \"python\", \"list\"]\n",
    "lengths = [len(word) for word in words]  # List of lengths of words\n",
    "print(f'Lengths of words: {lengths}')"
   ]
  },
  {
   "cell_type": "code",
   "execution_count": null,
   "id": "fa6b7722",
   "metadata": {},
   "outputs": [],
   "source": []
  }
 ],
 "metadata": {
  "kernelspec": {
   "display_name": "venv",
   "language": "python",
   "name": "python3"
  },
  "language_info": {
   "codemirror_mode": {
    "name": "ipython",
    "version": 3
   },
   "file_extension": ".py",
   "mimetype": "text/x-python",
   "name": "python",
   "nbconvert_exporter": "python",
   "pygments_lexer": "ipython3",
   "version": "3.12.2"
  }
 },
 "nbformat": 4,
 "nbformat_minor": 5
}
