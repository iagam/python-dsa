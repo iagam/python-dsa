{
 "cells": [
  {
   "cell_type": "markdown",
   "id": "de98315f",
   "metadata": {},
   "source": [
    "## Sets\n",
    "\n",
    "Sets are a built-in data type in Python used to store collections of unique items. They are unordered, meaning that the elements do not follow a specific order, and they do not allow duplicate elements. Sets are useful for membership tests, eliminating duplicate entries, and performing mathematical set operations like union, intersection, difference, and symmetric difference."
   ]
  },
  {
   "cell_type": "code",
   "execution_count": 1,
   "id": "15c05af1",
   "metadata": {},
   "outputs": [
    {
     "name": "stdout",
     "output_type": "stream",
     "text": [
      "Created set: {1, 2, 3, 4, 5}\n"
     ]
    }
   ],
   "source": [
    "## create a set\n",
    "my_set = {1,2,3,4,5}\n",
    "print(\"Created set:\", my_set)\n"
   ]
  },
  {
   "cell_type": "code",
   "execution_count": 2,
   "id": "4b8a078f",
   "metadata": {},
   "outputs": [
    {
     "name": "stdout",
     "output_type": "stream",
     "text": [
      "Empty set: set()\n"
     ]
    }
   ],
   "source": [
    "my_empty_set = set()  # Creating an empty set\n",
    "print(\"Empty set:\", my_empty_set)"
   ]
  },
  {
   "cell_type": "code",
   "execution_count": null,
   "id": "ef1ce61d",
   "metadata": {},
   "outputs": [
    {
     "name": "stdout",
     "output_type": "stream",
     "text": [
      "Created set using set(): {1, 2, 3, 4, 5}\n"
     ]
    }
   ],
   "source": [
    "my_set = set([1, 2, 3, 4, 5])  # Another way to create a set\n",
    "print(\"Created set using set():\", my_set)"
   ]
  },
  {
   "cell_type": "code",
   "execution_count": 4,
   "id": "96e49e29",
   "metadata": {},
   "outputs": [
    {
     "name": "stdout",
     "output_type": "stream",
     "text": [
      "Set with duplicates (duplicates ignored): {1, 2, 3, 4}\n"
     ]
    }
   ],
   "source": [
    "my_set_with_duplicates = {1, 2, 2, 3, 4}  # Duplicates are ignored\n",
    "print(\"Set with duplicates (duplicates ignored):\", my_set_with_duplicates)"
   ]
  },
  {
   "cell_type": "code",
   "execution_count": 12,
   "id": "676be99c",
   "metadata": {},
   "outputs": [
    {
     "name": "stdout",
     "output_type": "stream",
     "text": [
      "Set after adding 4: {1, 2, 3, 4}\n",
      "Set after adding 4 again: {1, 2, 3, 4}\n"
     ]
    }
   ],
   "source": [
    "## Basic set operations\n",
    "## Adding elements\n",
    "my_set = {1, 2, 3}\n",
    "my_set.add(4)  # Adding an element\n",
    "print(\"Set after adding 4:\", my_set)\n",
    "my_set.add(4)  # Adding same element\n",
    "print(\"Set after adding 4 again:\", my_set)"
   ]
  },
  {
   "cell_type": "code",
   "execution_count": 13,
   "id": "801d1271",
   "metadata": {},
   "outputs": [
    {
     "name": "stdout",
     "output_type": "stream",
     "text": [
      "Set after removing 2: {1, 3, 4}\n"
     ]
    }
   ],
   "source": [
    "## Removing an element\n",
    "my_set.remove(2)  # Removing an element\n",
    "print(\"Set after removing 2:\", my_set)"
   ]
  },
  {
   "cell_type": "code",
   "execution_count": 14,
   "id": "dc263f22",
   "metadata": {},
   "outputs": [
    {
     "name": "stdout",
     "output_type": "stream",
     "text": [
      "Set after discarding 3: {1, 3, 4}\n"
     ]
    }
   ],
   "source": [
    "## Removing an element wth discard (no error if not found)\n",
    "my_set.discard(10)  # Removing an element\n",
    "print(\"Set after discarding 3:\", my_set)"
   ]
  },
  {
   "cell_type": "code",
   "execution_count": 15,
   "id": "b2891aa2",
   "metadata": {},
   "outputs": [
    {
     "name": "stdout",
     "output_type": "stream",
     "text": [
      "Popped element: 1\n",
      "Set after popping an element: {3, 4}\n"
     ]
    }
   ],
   "source": [
    "## Removing element with pop (removes arbitrary element)\n",
    "popped_element = my_set.pop()  # Removes an arbitrary element\n",
    "print(\"Popped element:\", popped_element)\n",
    "print(\"Set after popping an element:\", my_set)"
   ]
  },
  {
   "cell_type": "code",
   "execution_count": 16,
   "id": "9b54225f",
   "metadata": {},
   "outputs": [
    {
     "name": "stdout",
     "output_type": "stream",
     "text": [
      "Set after clearing: set()\n"
     ]
    }
   ],
   "source": [
    "## Clearing a set\n",
    "my_set.clear()  # Removes all elements from the set\n",
    "print(\"Set after clearing:\", my_set)"
   ]
  },
  {
   "cell_type": "code",
   "execution_count": 17,
   "id": "eb9f8a0b",
   "metadata": {},
   "outputs": [
    {
     "name": "stdout",
     "output_type": "stream",
     "text": [
      "Is 3 in the set? True\n",
      "Is 6 in the set? False\n"
     ]
    }
   ],
   "source": [
    "## Set membersip tests\n",
    "my_set = {1, 2, 3, 4, 5}\n",
    "print(\"Is 3 in the set?\", 3 in my_set)  # True\n",
    "print(\"Is 6 in the set?\", 6 in my_set)  # False"
   ]
  },
  {
   "cell_type": "code",
   "execution_count": 20,
   "id": "6f65b3dd",
   "metadata": {},
   "outputs": [
    {
     "name": "stdout",
     "output_type": "stream",
     "text": [
      "Set A: {1, 2, 3, 4, 5}\n",
      "Set B: {4, 5, 6, 7, 8}\n",
      "Union of A and B: {1, 2, 3, 4, 5, 6, 7, 8}\n",
      "Intersection of A and B: {4, 5}\n",
      "Difference of A and B (A - B): {1, 2, 3}\n",
      "Difference of B and A (B - A): {8, 6, 7}\n",
      "Symmetric difference of A and B: {1, 2, 3, 6, 7, 8}\n"
     ]
    }
   ],
   "source": [
    "## Mathematical set operations\n",
    "set_a = {1, 2, 3, 4, 5}\n",
    "set_b = {4, 5, 6, 7, 8}\n",
    "print(\"Set A:\", set_a)\n",
    "print(\"Set B:\", set_b)\n",
    "print(\"Union of A and B:\", set_a.union(set_b))  # Union\n",
    "print(\"Intersection of A and B:\", set_a.intersection(set_b))  # Intersection\n",
    "print(\"Difference of A and B (A - B):\", set_a.difference(set_b))\n",
    "print(\"Difference of B and A (B - A):\", set_b.difference(set_a))\n",
    "print(\"Symmetric difference of A and B:\", set_a.symmetric_difference(set_b))  # Symmetric difference"
   ]
  },
  {
   "cell_type": "code",
   "execution_count": 21,
   "id": "bdeded3f",
   "metadata": {},
   "outputs": [
    {
     "name": "stdout",
     "output_type": "stream",
     "text": [
      "Set A before intersection update: {1, 2, 3, 4, 5}\n",
      "Set A after intersection update: {4, 5}\n"
     ]
    }
   ],
   "source": [
    "## Intersection update\n",
    "set_a = {1, 2, 3, 4, 5}\n",
    "set_b = {4, 5, 6, 7, 8}\n",
    "print(\"Set A before intersection update:\", set_a)\n",
    "set_a.intersection_update(set_b)  # Update set_a to keep only elements also in set_b\n",
    "print(\"Set A after intersection update:\", set_a)"
   ]
  },
  {
   "cell_type": "code",
   "execution_count": 25,
   "id": "aa4a2b59",
   "metadata": {},
   "outputs": [
    {
     "name": "stdout",
     "output_type": "stream",
     "text": [
      "Set A: {1, 2, 3, 4, 5, 6, 7, 8, 9, 10}\n",
      "Set B: {4, 5, 6, 7, 8}\n",
      "\n",
      "Is A a subset of B? False\n",
      "Is B a subset of A? True\n",
      "\n",
      "Is A a superset of B? True\n",
      "Is B a superset of A? False\n",
      "\n"
     ]
    }
   ],
   "source": [
    "## Set methods\n",
    "set_a = {1, 2, 3, 4, 5, 6, 7, 8, 9, 10}\n",
    "set_b = {4, 5, 6, 7, 8}\n",
    "print(\"Set A:\", set_a)\n",
    "print(\"Set B:\", set_b)\n",
    "print()\n",
    "\n",
    "## Is subset\n",
    "print(\"Is A a subset of B?\", set_a.issubset(set_b))\n",
    "print(\"Is B a subset of A?\", set_b.issubset(set_a))\n",
    "print()\n",
    "\n",
    "## Is superset\n",
    "print(\"Is A a superset of B?\", set_a.issuperset(set_b))\n",
    "print(\"Is B a superset of A?\", set_b.issuperset(set_a))\n",
    "print()"
   ]
  },
  {
   "cell_type": "code",
   "execution_count": 26,
   "id": "44259cd1",
   "metadata": {},
   "outputs": [
    {
     "name": "stdout",
     "output_type": "stream",
     "text": [
      "Set created from list (duplicates removed): {1, 2, 4, 5}\n"
     ]
    }
   ],
   "source": [
    "lst = [1,2,2,4,4,5]\n",
    "\n",
    "## Remove duplicates from a list\n",
    "set_from_list = set(lst)  # Convert list to set to remove duplicates\n",
    "print(\"Set created from list (duplicates removed):\", set_from_list)"
   ]
  },
  {
   "cell_type": "code",
   "execution_count": 28,
   "id": "d524e280",
   "metadata": {},
   "outputs": [
    {
     "name": "stdout",
     "output_type": "stream",
     "text": [
      "Words in the text: ['is', 'this', 'a', 'test', 'or', 'not', 'a', 'test']\n",
      "Unique words in the text: {'is', 'test', 'not', 'a', 'or', 'this'}\n"
     ]
    }
   ],
   "source": [
    "## Count uniqque words in a string\n",
    "text = \"is this a test or not a test\"\n",
    "words = text.split()  # Split the string into words\n",
    "print(\"Words in the text:\", words)\n",
    "\n",
    "unique_words = set(words)  # Convert list of words to a set to remove duplicates\n",
    "print(\"Unique words in the text:\", unique_words)"
   ]
  }
 ],
 "metadata": {
  "kernelspec": {
   "display_name": "venv",
   "language": "python",
   "name": "python3"
  },
  "language_info": {
   "codemirror_mode": {
    "name": "ipython",
    "version": 3
   },
   "file_extension": ".py",
   "mimetype": "text/x-python",
   "name": "python",
   "nbconvert_exporter": "python",
   "pygments_lexer": "ipython3",
   "version": "3.12.2"
  }
 },
 "nbformat": 4,
 "nbformat_minor": 5
}
