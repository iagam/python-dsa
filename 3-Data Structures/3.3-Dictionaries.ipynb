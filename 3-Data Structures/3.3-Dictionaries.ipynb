{
 "cells": [
  {
   "cell_type": "markdown",
   "id": "8ccb74a3",
   "metadata": {},
   "source": [
    "## Dictionaries"
   ]
  },
  {
   "cell_type": "markdown",
   "id": "955bcb19",
   "metadata": {},
   "source": [
    "\n",
    "1. Introduction to Dictionaries\n",
    "2. Creating Dictionaries\n",
    "3. Accessing Dictionary Elements\n",
    "4. Modifying Dictionary Elements\n",
    "5. Dictionary Methods\n",
    "6. Iterating Over Dictionaries\n",
    "7. Nested Dictionaries\n",
    "8. Dictionary Comprehensions\n",
    "9. Practical Examples and Common Errors\n"
   ]
  },
  {
   "cell_type": "markdown",
   "id": "43937edb",
   "metadata": {},
   "source": [
    "#### Dictionaries are unordered collections of items. They store data in key-value pairs. Keys must be unique and immutable(e.g. strings, numbers, or tuples). while values can be of any type."
   ]
  },
  {
   "cell_type": "code",
   "execution_count": 2,
   "id": "fc77d2d0",
   "metadata": {},
   "outputs": [
    {
     "name": "stdout",
     "output_type": "stream",
     "text": [
      "Empty dictionary: {}\n",
      "Type of empty_dict: <class 'dict'>\n"
     ]
    }
   ],
   "source": [
    "## Create Dictionary\n",
    "empty_dict = {}  # Empty dictionary\n",
    "print(\"Empty dictionary:\", empty_dict)\n",
    "print(\"Type of empty_dict:\", type(empty_dict))"
   ]
  },
  {
   "cell_type": "code",
   "execution_count": 3,
   "id": "6f230364",
   "metadata": {},
   "outputs": [
    {
     "name": "stdout",
     "output_type": "stream",
     "text": [
      "Empty dictionary using dict(): {}\n"
     ]
    }
   ],
   "source": [
    "empty_dict = dict()  # Another way to create an empty dictionary\n",
    "print(\"Empty dictionary using dict():\", empty_dict)"
   ]
  },
  {
   "cell_type": "code",
   "execution_count": 30,
   "id": "3f5d6dc1",
   "metadata": {},
   "outputs": [
    {
     "name": "stdout",
     "output_type": "stream",
     "text": [
      "Student dictionary: {'name': 'John', 'age': 20, 'courses': ['Math', 'Science'], 'is_active': True}\n",
      "Keys of student dictionary: dict_keys(['name', 'age', 'courses', 'is_active'])\n",
      "Name: John\n",
      "Age: 20\n",
      "Courses: ['Math', 'Science']\n",
      "Is Active: True\n"
     ]
    }
   ],
   "source": [
    "student = {\n",
    "    \"name\": \"John\",\n",
    "    \"age\": 20,\n",
    "    \"courses\": [\"Math\", \"Science\"],\n",
    "    \"is_active\": True\n",
    "}\n",
    "print(\"Student dictionary:\", student)\n",
    "\n",
    "## Keys of a dictionary must be unique and immutable (e.g., strings, numbers, or tuples). Values can be of any type.\n",
    "print(\"Keys of student dictionary:\", student.keys())\n",
    "\n",
    "## Accessing values in a dictionary\n",
    "print(\"Name:\", student[\"name\"])\n",
    "print(\"Age:\", student[\"age\"])\n",
    "print(\"Courses:\", student[\"courses\"])\n",
    "print(\"Is Active:\", student[\"is_active\"])"
   ]
  },
  {
   "cell_type": "code",
   "execution_count": 31,
   "id": "d81b1286",
   "metadata": {},
   "outputs": [
    {
     "name": "stdout",
     "output_type": "stream",
     "text": [
      "Student dictionary with duplicate key: {'name': 'Doe', 'age': 20}\n"
     ]
    }
   ],
   "source": [
    "# Error\n",
    "\n",
    "students = {\n",
    "    \"name\": \"John\",\n",
    "    \"age\": 20,\n",
    "    \"name\": \"Doe\"  # Duplicate key, the last value will overwrite the first\n",
    "    }\n",
    "print(\"Student dictionary with duplicate key:\", students)\n",
    "\n",
    "## Here the key \"name\" is duplicated, and the last value (\"Doe\") overwrites the first value (\"John\").\n",
    "## Dictionaries do not allow duplicate keys, and the last value assigned to a key will be the one that is stored."
   ]
  },
  {
   "cell_type": "code",
   "execution_count": null,
   "id": "d229921f",
   "metadata": {},
   "outputs": [
    {
     "name": "stdout",
     "output_type": "stream",
     "text": [
      "Accessing values:\n",
      "Name: John\n",
      "Age: 20\n",
      "Courses: ['Math', 'Science']\n",
      "Is Active: True\n",
      "Address: Not found\n"
     ]
    }
   ],
   "source": [
    "## Accessing dictionary values\n",
    "print(\"Accessing values:\")\n",
    "print(\"Name:\", student[\"name\"])  # Accessing value using key\n",
    "print(\"Age:\", student[\"age\"])    # Accessing value using key\n",
    "print(\"Courses:\", student.get(\"courses\"))  # Using get() method\n",
    "print(\"Is Active:\", student.get(\"is_active\"))  # Using get() method\n",
    "print(\"Address:\", student.get(\"address\", \"Not found\"))  # Key not present, returns default value"
   ]
  },
  {
   "cell_type": "code",
   "execution_count": 33,
   "id": "4cadf25c",
   "metadata": {},
   "outputs": [
    {
     "name": "stdout",
     "output_type": "stream",
     "text": [
      "Before modification: {'name': 'John', 'age': 20, 'courses': ['Math', 'Science'], 'is_active': True}\n",
      "After modifying age: {'name': 'John', 'age': 21, 'courses': ['Math', 'Science'], 'is_active': True}\n",
      "After adding address: {'name': 'John', 'age': 21, 'courses': ['Math', 'Science'], 'is_active': True, 'address': '123 Main St'}\n",
      "After deleting is_active: {'name': 'John', 'age': 21, 'courses': ['Math', 'Science'], 'address': '123 Main St'}\n"
     ]
    }
   ],
   "source": [
    "## Modifying dictionary elements\n",
    "## Dictionaries are mutable, meaning you can change their contents.\n",
    "print(\"Before modification:\", student)\n",
    "student[\"age\"] = 21  # Modifying existing key\n",
    "print(\"After modifying age:\", student)\n",
    "student[\"address\"] = \"123 Main St\"  # Adding a new key-value pair\n",
    "print(\"After adding address:\", student)\n",
    "\n",
    "## Deleting dictionary elements\n",
    "del student[\"is_active\"]  # Deleting a key-value pair\n",
    "print(\"After deleting is_active:\", student)"
   ]
  },
  {
   "cell_type": "code",
   "execution_count": 34,
   "id": "7b88e4fc",
   "metadata": {},
   "outputs": [
    {
     "name": "stdout",
     "output_type": "stream",
     "text": [
      "Keys in student dictionary: dict_keys(['name', 'age', 'courses', 'address'])\n",
      "Values in student dictionary: dict_values(['John', 21, ['Math', 'Science'], '123 Main St'])\n",
      "Items in student dictionary: dict_items([('name', 'John'), ('age', 21), ('courses', ['Math', 'Science']), ('address', '123 Main St')])\n"
     ]
    }
   ],
   "source": [
    "## Dictionary methods\n",
    "print(\"Keys in student dictionary:\", student.keys())  # Returns a view of the keys\n",
    "print(\"Values in student dictionary:\", student.values())  # Returns a view of the values\n",
    "print(\"Items in student dictionary:\", student.items())  # Returns a view of the key-value pairs"
   ]
  },
  {
   "cell_type": "code",
   "execution_count": 37,
   "id": "c3dc9c3c",
   "metadata": {},
   "outputs": [
    {
     "name": "stdout",
     "output_type": "stream",
     "text": [
      "Original student dictionary: {'name': 'John', 'age': 20, 'courses': ['Math', 'Science'], 'is_active': True}\n",
      "Shallow copy of student dictionary: {'name': 'John', 'age': 20, 'courses': ['Math', 'Science'], 'is_active': True}\n",
      "After modifying original dictionary:\n",
      "Original student dictionary: {'name': 'Alice', 'age': 20, 'courses': ['Math', 'Science'], 'is_active': True}\n",
      "Shallow copy of student dictionary remains unchanged: {'name': 'John', 'age': 20, 'courses': ['Math', 'Science'], 'is_active': True}\n"
     ]
    }
   ],
   "source": [
    "## Shallow copy of a dictionary\n",
    "## A shallow copy creates a new dictionary with the same key-value pairs, but changes to the original dictionary do not affect the copy.\n",
    "## Creating a shallow copy\n",
    "\n",
    "student = {\"name\": \"John\", \"age\": 20, \"courses\": [\"Math\", \"Science\"], \"is_active\": True}\n",
    "\n",
    "shallow_copy = student.copy()  # Creates a shallow copy of the dictionary\n",
    "print(\"Original student dictionary:\", student)\n",
    "print(\"Shallow copy of student dictionary:\", shallow_copy)\n",
    "\n",
    "student[\"name\"] = \"Alice\"  # Modifying the original dictionary\n",
    "print(\"After modifying original dictionary:\")\n",
    "print(\"Original student dictionary:\", student)\n",
    "print(\"Shallow copy of student dictionary remains unchanged:\", shallow_copy)"
   ]
  },
  {
   "cell_type": "code",
   "execution_count": 44,
   "id": "4f47b429",
   "metadata": {},
   "outputs": [
    {
     "name": "stdout",
     "output_type": "stream",
     "text": [
      "Iterating through student dictionary:\n",
      "Key: name\n",
      "Key: age\n",
      "Key: courses\n",
      "Key: is_active\n",
      "\n",
      "Iterating through values:\n",
      "Value: Alice\n",
      "Value: 20\n",
      "Value: ['Math', 'Science']\n",
      "Value: True\n",
      "\n",
      "Iterating through items:\n",
      "name : Alice\n",
      "age : 20\n",
      "courses : ['Math', 'Science']\n",
      "is_active : True\n"
     ]
    }
   ],
   "source": [
    "## Iterating through a dictionary\n",
    "## You can use a for loop to iterate through the keys, values, or items of a dictionary.\n",
    "print(\"Iterating through student dictionary:\")\n",
    "\n",
    "for keys in student.keys():\n",
    "    print(\"Key:\", keys)  # Iterating through keys\n",
    "\n",
    "print()\n",
    "\n",
    "print(\"Iterating through values:\")\n",
    "for value in student.values():\n",
    "    print(\"Value:\", value)  # Iterating through values\n",
    "print()\n",
    "\n",
    "print(\"Iterating through items:\")\n",
    "for key, value in student.items():\n",
    "    print(key,\":\",value)  # Iterating through key-value pairs"
   ]
  },
  {
   "cell_type": "code",
   "execution_count": 47,
   "id": "3e27dc1a",
   "metadata": {},
   "outputs": [
    {
     "name": "stdout",
     "output_type": "stream",
     "text": [
      "{'student1': {'name': 'John', 'age': 20, 'courses': ['Math', 'Science'], 'is_active': True}, 'student2': {'name': 'Alice', 'age': 22, 'courses': ['English', 'History'], 'is_active': False}, 'student3': {'name': 'Bob', 'age': 21, 'courses': ['Physics', 'Chemistry'], 'is_active': True}}\n",
      "\n",
      "Accessing nested dictionary values:\n",
      "Student 1 Name: John\n",
      "Student 2 Age: 22\n",
      "Student 3 Courses: ['Physics', 'Chemistry']\n"
     ]
    }
   ],
   "source": [
    "## Nested dictionaries\n",
    "## Dictionaries can contain other dictionaries as values, allowing for complex data structures.\n",
    "nested_dict = {\n",
    "    \"student1\": {\n",
    "        \"name\": \"John\",\n",
    "        \"age\": 20,\n",
    "        \"courses\": [\"Math\", \"Science\"],\n",
    "        \"is_active\": True\n",
    "    },\n",
    "    \"student2\": {\n",
    "        \"name\": \"Alice\",\n",
    "        \"age\": 22,\n",
    "        \"courses\": [\"English\", \"History\"],\n",
    "        \"is_active\": False\n",
    "    },\n",
    "    \"student3\": {\n",
    "        \"name\": \"Bob\",\n",
    "        \"age\": 21,\n",
    "        \"courses\": [\"Physics\", \"Chemistry\"],\n",
    "        \"is_active\": True\n",
    "    }\n",
    "}\n",
    "print(nested_dict)\n",
    "print()\n",
    "\n",
    "print(\"Accessing nested dictionary values:\")\n",
    "print(\"Student 1 Name:\", nested_dict[\"student1\"][\"name\"])\n",
    "print(\"Student 2 Age:\", nested_dict[\"student2\"][\"age\"])\n",
    "print(\"Student 3 Courses:\", nested_dict[\"student3\"][\"courses\"])"
   ]
  },
  {
   "cell_type": "code",
   "execution_count": 48,
   "id": "bb64bab3",
   "metadata": {},
   "outputs": [
    {
     "name": "stdout",
     "output_type": "stream",
     "text": [
      "Iterating through nested dictionary:\n",
      "student1:\n",
      "  name: John\n",
      "  age: 20\n",
      "  courses: ['Math', 'Science']\n",
      "  is_active: True\n",
      "\n",
      "student2:\n",
      "  name: Alice\n",
      "  age: 22\n",
      "  courses: ['English', 'History']\n",
      "  is_active: False\n",
      "\n",
      "student3:\n",
      "  name: Bob\n",
      "  age: 21\n",
      "  courses: ['Physics', 'Chemistry']\n",
      "  is_active: True\n",
      "\n"
     ]
    }
   ],
   "source": [
    "## Iterating through a nested dictionary\n",
    "print(\"Iterating through nested dictionary:\")\n",
    "for student_key, student_info in nested_dict.items():\n",
    "    print(f\"{student_key}:\")\n",
    "    for key, value in student_info.items():\n",
    "        print(f\"  {key}: {value}\")\n",
    "    print()  # Adding a newline for better readability"
   ]
  },
  {
   "cell_type": "code",
   "execution_count": 50,
   "id": "ecdb40e8",
   "metadata": {},
   "outputs": [
    {
     "name": "stdout",
     "output_type": "stream",
     "text": [
      "Squared numbers dictionary: {1: 1, 2: 4, 3: 9, 4: 16, 5: 25}\n",
      "Squared numbers with even keys: {2: 4, 4: 16, 6: 36, 8: 64, 10: 100}\n"
     ]
    }
   ],
   "source": [
    "## Dictionary comprehensions\n",
    "## You can create dictionaries using dictionary comprehensions, which provide a concise way to construct dictionaries.\n",
    "\n",
    "squared_numbers = {x: x**2 for x in range(1, 6)}  # Creating a dictionary of squared numbers\n",
    "print(\"Squared numbers dictionary:\", squared_numbers)\n",
    "\n",
    "squared_numbers_with_even_keys = {x: x**2 for x in range(1, 11) if x % 2 == 0}  # Creating a dictionary with even keys\n",
    "print(\"Squared numbers with even keys:\", squared_numbers_with_even_keys)"
   ]
  },
  {
   "cell_type": "code",
   "execution_count": 53,
   "id": "9137ab6a",
   "metadata": {},
   "outputs": [
    {
     "name": "stdout",
     "output_type": "stream",
     "text": [
      "Frequency of numbers in the list: {1: 1, 2: 2, 3: 3, 4: 3}\n"
     ]
    }
   ],
   "source": [
    "## Practical Exercise\n",
    "\n",
    "## Use a dictionary to count the frequency of numbers in a list.\n",
    "numbers = [1, 2, 2, 3, 3, 3, 4, 4, 4]\n",
    "frequency = {}\n",
    "\n",
    "for num in numbers:\n",
    "    frequency[num] = frequency.get(num, 0) + 1  # Incrementing the count for each number\n",
    "\n",
    "print(\"Frequency of numbers in the list:\", frequency)\n"
   ]
  },
  {
   "cell_type": "code",
   "execution_count": 55,
   "id": "1bdfa4c3",
   "metadata": {},
   "outputs": [
    {
     "name": "stdout",
     "output_type": "stream",
     "text": [
      "Merged dictionary: {'a': 5, 'b': 3, 'c': 4}\n"
     ]
    }
   ],
   "source": [
    "## Merge two dictionaries\n",
    "dict1 = {\"a\": 1, \"b\": 2}\n",
    "dict2 = {\"b\": 3, \"c\": 4, \"a\": 5}  # Note: 'a' will be overwritten by the value from dict2\n",
    "merged_dict = {**dict1, **dict2}  # Merging two dictionaries\n",
    "print(\"Merged dictionary:\", merged_dict)"
   ]
  },
  {
   "cell_type": "code",
   "execution_count": null,
   "id": "588359c3",
   "metadata": {},
   "outputs": [],
   "source": []
  }
 ],
 "metadata": {
  "kernelspec": {
   "display_name": "venv",
   "language": "python",
   "name": "python3"
  },
  "language_info": {
   "codemirror_mode": {
    "name": "ipython",
    "version": 3
   },
   "file_extension": ".py",
   "mimetype": "text/x-python",
   "name": "python",
   "nbconvert_exporter": "python",
   "pygments_lexer": "ipython3",
   "version": "3.12.2"
  }
 },
 "nbformat": 4,
 "nbformat_minor": 5
}
