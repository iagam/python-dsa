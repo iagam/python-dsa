{
 "cells": [
  {
   "cell_type": "markdown",
   "id": "c772616a",
   "metadata": {},
   "source": [
    "# Real-World Examples Using Lists in Python\n",
    "\n",
    "Lists are one of the most commonly used data structures in Python, thanks to their versatility and ease of use.  \n",
    "Here are several practical examples that illustrate their use in real-world scenarios.\n"
   ]
  },
  {
   "cell_type": "markdown",
   "id": "0935609c",
   "metadata": {},
   "source": [
    "- #### Create a to-do list to keep track of all the tasks"
   ]
  },
  {
   "cell_type": "code",
   "execution_count": 8,
   "id": "ab657cfd",
   "metadata": {},
   "outputs": [
    {
     "name": "stdout",
     "output_type": "stream",
     "text": [
      "To-Do List: ['Buy groceries', 'Walk the dog', 'Read a book', 'Exercise for 30 minutes']\n",
      "To-Do List after addition: ['Buy groceries', 'Walk the dog', 'Read a book', 'Exercise for 30 minutes', 'Call a friend']\n",
      "To-Do List after removal: ['Buy groceries', 'Walk the dog', 'Exercise for 30 minutes', 'Call a friend']\n",
      "'Walk the dog' is in the to-do list.\n",
      "\n",
      "Final To-Do List:\n",
      "- Buy groceries\n",
      "- Walk the dog\n",
      "- Exercise for 30 minutes\n",
      "- Call a friend\n"
     ]
    }
   ],
   "source": [
    "to_do_list = [\"Buy groceries\", \"Walk the dog\", \"Read a book\", \"Exercise for 30 minutes\"]\n",
    "print(\"To-Do List:\", to_do_list)\n",
    "\n",
    "## Add a new task to the to-do list\n",
    "to_do_list.append(\"Call a friend\")\n",
    "print(\"To-Do List after addition:\", to_do_list)\n",
    "\n",
    "## Remove a task from the to-do list\n",
    "to_do_list.remove(\"Read a book\")\n",
    "print(\"To-Do List after removal:\", to_do_list)\n",
    "\n",
    "## To check if a task is in the to-do list\n",
    "task_to_check = \"Walk the dog\"\n",
    "if task_to_check in to_do_list:\n",
    "    print(f\"'{task_to_check}' is in the to-do list.\")\n",
    "else:\n",
    "    print(f\"'{task_to_check}' is not in the to-do list.\")\n",
    "print()\n",
    "\n",
    "print(\"Final To-Do List:\")\n",
    "for task in to_do_list:\n",
    "    print(\"-\", task)"
   ]
  },
  {
   "cell_type": "markdown",
   "id": "00c642b3",
   "metadata": {},
   "source": [
    "- ### Create a list to store and calculate average student grades"
   ]
  },
  {
   "cell_type": "code",
   "execution_count": 9,
   "id": "9848fd2a",
   "metadata": {},
   "outputs": [
    {
     "name": "stdout",
     "output_type": "stream",
     "text": [
      "Grades: [85, 90, 78, 92, 88]\n",
      "Grades after addition: [85, 90, 78, 92, 88, 95]\n",
      "Highest Grade: 95\n",
      "Lowest Grade: 78\n",
      "Average Grade: 88.0\n"
     ]
    }
   ],
   "source": [
    "grades = [85, 90, 78, 92, 88]\n",
    "print(\"Grades:\", grades)\n",
    "\n",
    "## Add a new grade\n",
    "grades.append(95)\n",
    "print(\"Grades after addition:\", grades)\n",
    "\n",
    "## Calculate the highest and lowest grades\n",
    "highest_grade = max(grades)\n",
    "lowest_grade = min(grades)\n",
    "print(\"Highest Grade:\", highest_grade)\n",
    "print(\"Lowest Grade:\", lowest_grade)\n",
    "\n",
    "## Calculate the average grade\n",
    "average_grade = sum(grades) / len(grades)\n",
    "print(\"Average Grade:\", average_grade)"
   ]
  },
  {
   "cell_type": "markdown",
   "id": "16e80fad",
   "metadata": {},
   "source": [
    "- ### Use a list to manage inventory in a store"
   ]
  },
  {
   "cell_type": "code",
   "execution_count": 13,
   "id": "6ad0dfb8",
   "metadata": {},
   "outputs": [
    {
     "name": "stdout",
     "output_type": "stream",
     "text": [
      "Inventory: ['Apples', 'Bananas', 'Oranges', 'Grapes']\n",
      "\n",
      "Inventory after addition of mangoes: ['Apples', 'Bananas', 'Oranges', 'Grapes', 'Mangoes']\n",
      "\n",
      "Inventory after removal of bananas(out of stock): ['Apples', 'Oranges', 'Grapes', 'Mangoes']\n",
      "\n",
      "Checking if Oranges is in inventory...\n",
      "'Oranges' is in the inventory.\n"
     ]
    }
   ],
   "source": [
    "## Inventory management\n",
    "inventory = [\"Apples\", \"Bananas\", \"Oranges\", \"Grapes\"]\n",
    "print(\"Inventory:\", inventory)\n",
    "print()\n",
    "\n",
    "## Add a new item to the inventory\n",
    "inventory.append(\"Mangoes\")\n",
    "print(\"Inventory after addition of mangoes:\", inventory)\n",
    "print()\n",
    "\n",
    "## Remove an item from the inventory\n",
    "inventory.remove(\"Bananas\")\n",
    "print(\"Inventory after removal of bananas(out of stock):\", inventory)\n",
    "print()\n",
    "\n",
    "## Check if an item is in the inventory\n",
    "item_to_check = \"Oranges\"\n",
    "print(f'Checking if {item_to_check} is in inventory...')\n",
    "if item_to_check in inventory:\n",
    "    print(f\"'{item_to_check}' is in the inventory.\")\n",
    "else:\n",
    "    print(f\"'{item_to_check}' is out of stock.\")"
   ]
  },
  {
   "cell_type": "markdown",
   "id": "e14b4cd8",
   "metadata": {},
   "source": [
    "- ### Use a list to collect and manage user feedback"
   ]
  },
  {
   "cell_type": "code",
   "execution_count": 18,
   "id": "43422d8a",
   "metadata": {},
   "outputs": [
    {
     "name": "stdout",
     "output_type": "stream",
     "text": [
      "User Feedback: ['Great service!', 'Very satisfied', 'Could be better', 'Loved the product!']\n",
      "\n",
      "User Feedback after addition: ['Great service!', 'Very satisfied', 'Could be better', 'Loved the product!', 'Not happy with the delivery']\n",
      "Number of positive feedbacks: 2\n",
      "All User Feedback:\n",
      "- Great service!\n",
      "- Very satisfied\n",
      "- Could be better\n",
      "- Loved the product!\n",
      "- Not happy with the delivery\n",
      "\n"
     ]
    }
   ],
   "source": [
    "# Collecting user feedback\n",
    "feedback = [\"Great service!\", \"Very satisfied\", \"Could be better\", \"Loved the product!\"]\n",
    "print(\"User Feedback:\", feedback)\n",
    "print()\n",
    "\n",
    "\n",
    "## Add new feedback\n",
    "feedback.append(\"Not happy with the delivery\")\n",
    "print(\"User Feedback after addition:\", feedback)\n",
    "\n",
    "## Counting specific feedback\n",
    "positive_feedbacks = sum(1 for phrases in feedback if \"Great\" in phrases or \"Loved\" in phrases)\n",
    "print(\"Number of positive feedbacks:\", positive_feedbacks)\n",
    "\n",
    "## Printing all feedback\n",
    "print(\"All User Feedback:\")\n",
    "for phrase in feedback:\n",
    "    print(\"-\", phrase)\n",
    "print()"
   ]
  },
  {
   "cell_type": "code",
   "execution_count": null,
   "id": "1750a367",
   "metadata": {},
   "outputs": [],
   "source": []
  }
 ],
 "metadata": {
  "kernelspec": {
   "display_name": "venv",
   "language": "python",
   "name": "python3"
  },
  "language_info": {
   "codemirror_mode": {
    "name": "ipython",
    "version": 3
   },
   "file_extension": ".py",
   "mimetype": "text/x-python",
   "name": "python",
   "nbconvert_exporter": "python",
   "pygments_lexer": "ipython3",
   "version": "3.12.2"
  }
 },
 "nbformat": 4,
 "nbformat_minor": 5
}
