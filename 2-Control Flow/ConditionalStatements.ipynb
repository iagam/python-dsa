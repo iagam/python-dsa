{
 "cells": [
  {
   "cell_type": "markdown",
   "id": "c0a17a01",
   "metadata": {},
   "source": [
    "# Conditional Statements (if, elif, else)"
   ]
  },
  {
   "cell_type": "markdown",
   "id": "e963244a",
   "metadata": {},
   "source": [
    "#### Introduction to Conditional Statements\n",
    "\n",
    "1. if Statement\n",
    "\n",
    "2. else Statement\n",
    "\n",
    "3. elif Statement\n",
    "\n",
    "4. Nested Conditional Statements\n",
    "\n",
    "5. Practical Examples\n",
    "\n",
    "6. Common Errors and Best Practices"
   ]
  },
  {
   "cell_type": "code",
   "execution_count": 1,
   "id": "6f5a5563",
   "metadata": {},
   "outputs": [
    {
     "name": "stdout",
     "output_type": "stream",
     "text": [
      "You are an adult.\n"
     ]
    }
   ],
   "source": [
    "## if statement\n",
    "\n",
    "age=18\n",
    "if age >= 18:\n",
    "    print(\"You are an adult.\")"
   ]
  },
  {
   "cell_type": "code",
   "execution_count": 4,
   "id": "479c217c",
   "metadata": {},
   "outputs": [
    {
     "name": "stdout",
     "output_type": "stream",
     "text": [
      "You are a minor.\n"
     ]
    }
   ],
   "source": [
    "## else statement\n",
    "## else statement executes when the if condition is false\n",
    "\n",
    "age = 15\n",
    "if age >= 18:\n",
    "    print(\"You are an adult.\")\n",
    "else:\n",
    "    print(\"You are a minor.\")"
   ]
  },
  {
   "cell_type": "code",
   "execution_count": 5,
   "id": "0822f621",
   "metadata": {},
   "outputs": [
    {
     "name": "stdout",
     "output_type": "stream",
     "text": [
      "You are a teenager.\n"
     ]
    }
   ],
   "source": [
    "## elif statement\n",
    "## elif statement allows you to check multiple conditions\n",
    "\n",
    "age = 19\n",
    "if age < 13:\n",
    "    print(\"You are a child.\")\n",
    "elif age < 20:\n",
    "    print(\"You are a teenager.\")\n",
    "else:\n",
    "    print(\"You are an adult.\")"
   ]
  },
  {
   "cell_type": "code",
   "execution_count": null,
   "id": "b71fd130",
   "metadata": {},
   "outputs": [
    {
     "name": "stdout",
     "output_type": "stream",
     "text": [
      "You are an adult.\n",
      "You are a senior citizen.\n"
     ]
    }
   ],
   "source": [
    "## nested conditional statements\n",
    "## you can place one or more if, elif, or else statements inside another if, elif, or else statement\n",
    "\n",
    "age = 72\n",
    "if age >= 18:\n",
    "    print(\"You are an adult.\")\n",
    "    if age >= 65:\n",
    "        print(\"You are a senior citizen.\")\n",
    "else:\n",
    "    print(\"You are a minor.\")"
   ]
  },
  {
   "cell_type": "code",
   "execution_count": 9,
   "id": "cbc04750",
   "metadata": {},
   "outputs": [
    {
     "name": "stdout",
     "output_type": "stream",
     "text": [
      "year 2000 is a leap year\n"
     ]
    }
   ],
   "source": [
    "## Usecases\n",
    "\n",
    "## Determine if a year is a leap year\n",
    "\n",
    "year = int(input(\"Enter a year: \"))\n",
    "\n",
    "if year%4 ==0:\n",
    "    if year%100 == 0:\n",
    "        if year%400==0:\n",
    "            print(f'year {year} is a leap year')\n",
    "        else:\n",
    "            print(f\"year {year} is not a leap year\")\n",
    "    else:\n",
    "        print(f\"year {year} is a leap year\")\n",
    "else:\n",
    "    print(f\"year {year} is not a leap year\")"
   ]
  },
  {
   "cell_type": "code",
   "execution_count": 15,
   "id": "d41ad92c",
   "metadata": {},
   "outputs": [
    {
     "name": "stdout",
     "output_type": "stream",
     "text": [
      "Error! Division by zero!\n"
     ]
    }
   ],
   "source": [
    "## Assignment\n",
    "## Simple calculator\n",
    "\n",
    "num1 = float(input('Enter first number: '))\n",
    "num2 = float(input(\"Enter second number: \"))\n",
    "operation = str(input('Enter operation (+, -, *, /)'))\n",
    "\n",
    "if operation == '+':\n",
    "    print('You chose addition (+).')\n",
    "    print(f'Sum: {num1+num2}')\n",
    "elif operation == \"-\":\n",
    "    print(\"You chose subtraction (+).\")\n",
    "    print(f\"Difference: {num1-num2}\")\n",
    "elif operation == \"*\":\n",
    "    print(\"You chose multiplication (+).\")\n",
    "    print(f\"Product: {num1*num2}\")\n",
    "elif operation == \"/\":\n",
    "    if num2 == 0:\n",
    "        print('Error! Division by zero!')\n",
    "    else:\n",
    "        print(\"You chose division (/).\")\n",
    "        print(f\"Quotient: {num1/num2}\")\n",
    "else:\n",
    "    print('Choose a valid operation. Try again.')"
   ]
  },
  {
   "cell_type": "code",
   "execution_count": 28,
   "id": "b72cce81",
   "metadata": {},
   "outputs": [
    {
     "name": "stdout",
     "output_type": "stream",
     "text": [
      "Ticket price: $12\n"
     ]
    }
   ],
   "source": [
    "## Determine the ticket price based on age and whether the person is a student or a senior citizen\n",
    "\n",
    "age = int(input('Enter your age: '))\n",
    "is_student = input('Are you a student (y/n)? ').lower()\n",
    "\n",
    "if age < 5:\n",
    "    price = 'Free'\n",
    "elif age <= 12:\n",
    "    price = '$10'\n",
    "elif age <= 17:\n",
    "    if is_student == 'y':\n",
    "        price = '$7'\n",
    "    else:\n",
    "        price = '$15'\n",
    "elif age <= 60:\n",
    "    price = '$20'\n",
    "else:\n",
    "    price = '$12'\n",
    "\n",
    "print(f'Ticket price: {price}')\n"
   ]
  },
  {
   "cell_type": "code",
   "execution_count": null,
   "id": "95989aa2",
   "metadata": {},
   "outputs": [],
   "source": []
  }
 ],
 "metadata": {
  "kernelspec": {
   "display_name": "venv",
   "language": "python",
   "name": "python3"
  },
  "language_info": {
   "codemirror_mode": {
    "name": "ipython",
    "version": 3
   },
   "file_extension": ".py",
   "mimetype": "text/x-python",
   "name": "python",
   "nbconvert_exporter": "python",
   "pygments_lexer": "ipython3",
   "version": "3.12.2"
  }
 },
 "nbformat": 4,
 "nbformat_minor": 5
}
