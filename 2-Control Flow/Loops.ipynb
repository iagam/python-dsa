{
 "cells": [
  {
   "cell_type": "markdown",
   "id": "53b5d0b6",
   "metadata": {},
   "source": [
    "## Loops"
   ]
  },
  {
   "cell_type": "markdown",
   "id": "1a955d3c",
   "metadata": {},
   "source": [
    "1. Introduction to Loops\n",
    "\n",
    "2. for Loop\n",
    "   - Iterating over a range\n",
    "   - Iterating over a string\n",
    "\n",
    "3. while Loop\n",
    "\n",
    "4. Loop Control Statements\n",
    "   - break\n",
    "   - continue\n",
    "   - pass\n",
    "\n",
    "5. Nested Loops\n",
    "\n",
    "6. Practical Examples and Common Errors\n"
   ]
  },
  {
   "cell_type": "code",
   "execution_count": 2,
   "id": "6918d0b1",
   "metadata": {},
   "outputs": [
    {
     "name": "stdout",
     "output_type": "stream",
     "text": [
      "Using for loop:\n",
      "0\n",
      "1\n",
      "2\n",
      "3\n",
      "4\n"
     ]
    }
   ],
   "source": [
    "## for loop\n",
    "## used to iterate over a sequence (like a list, tuple, or string) or other iterable objects\n",
    "## the loop will execute for each item in the sequence\n",
    "\n",
    "range(5) # generates a sequence of numbers from 0 to 4\n",
    "print(\"Using for loop:\")\n",
    "for i in range(5):\n",
    "    print(i)"
   ]
  },
  {
   "cell_type": "code",
   "execution_count": 3,
   "id": "0c14e398",
   "metadata": {},
   "outputs": [
    {
     "name": "stdout",
     "output_type": "stream",
     "text": [
      "Iterating over a string:\n",
      "H\n",
      "e\n",
      "l\n",
      "l\n",
      "o\n"
     ]
    }
   ],
   "source": [
    "## strings are also iterable\n",
    "print(\"Iterating over a string:\")\n",
    "for char in \"Hello\":\n",
    "    print(char)"
   ]
  },
  {
   "cell_type": "code",
   "execution_count": 4,
   "id": "2f40bf94",
   "metadata": {},
   "outputs": [
    {
     "name": "stdout",
     "output_type": "stream",
     "text": [
      "Using while loop:\n",
      "0\n",
      "1\n",
      "2\n",
      "3\n",
      "4\n"
     ]
    }
   ],
   "source": [
    "## while loop\n",
    "## used to repeatedly execute a block of code as long as a condition is true\n",
    "print(\"Using while loop:\")\n",
    "\n",
    "count = 0\n",
    "while count < 5:\n",
    "    print(count)\n",
    "    count += 1"
   ]
  },
  {
   "cell_type": "code",
   "execution_count": 5,
   "id": "87f9313c",
   "metadata": {},
   "outputs": [
    {
     "name": "stdout",
     "output_type": "stream",
     "text": [
      "Using break statement:\n",
      "0\n",
      "1\n",
      "2\n"
     ]
    }
   ],
   "source": [
    "## Loop control statements\n",
    "## the break statement is used to exit a loop prematurely\n",
    "print(\"Using break statement:\")\n",
    "\n",
    "for i in range(5):\n",
    "    if i == 3:\n",
    "        break\n",
    "    print(i)"
   ]
  },
  {
   "cell_type": "code",
   "execution_count": 7,
   "id": "05704a3d",
   "metadata": {},
   "outputs": [
    {
     "name": "stdout",
     "output_type": "stream",
     "text": [
      "Using continue statement:\n",
      "1\n",
      "3\n",
      "5\n"
     ]
    }
   ],
   "source": [
    "## continue statement\n",
    "## the continue statement skips the current iteration and moves to the next iteration of the loop\n",
    "print(\"Using continue statement:\")\n",
    "\n",
    "for i in range(10):\n",
    "    if i%2 == 0:\n",
    "        continue\n",
    "    elif i%7 == 0:\n",
    "        break\n",
    "    print(i)"
   ]
  },
  {
   "cell_type": "code",
   "execution_count": 8,
   "id": "a155cd36",
   "metadata": {},
   "outputs": [
    {
     "name": "stdout",
     "output_type": "stream",
     "text": [
      "Using pass statement:\n",
      "0\n",
      "1\n",
      "2\n",
      "3\n",
      "4\n"
     ]
    }
   ],
   "source": [
    "## pass statement\n",
    "## the pass statement is a null operation; it does nothing when executed\n",
    "print(\"Using pass statement:\")\n",
    "for i in range(5):\n",
    "    if i == 2:\n",
    "        pass  # do nothing for this iteration\n",
    "    print(i)"
   ]
  },
  {
   "cell_type": "code",
   "execution_count": 10,
   "id": "6e6f2dc9",
   "metadata": {},
   "outputs": [
    {
     "name": "stdout",
     "output_type": "stream",
     "text": [
      "Using nested loops:\n",
      "i: 0, j: 0, product: 0\n",
      "i: 0, j: 1, product: 0\n",
      "i: 0, j: 2, product: 0\n",
      "i: 0, j: 3, product: 0\n",
      "i: 1, j: 0, product: 0\n",
      "i: 1, j: 1, product: 1\n",
      "i: 1, j: 2, product: 2\n",
      "i: 1, j: 3, product: 3\n",
      "i: 2, j: 0, product: 0\n",
      "i: 2, j: 1, product: 2\n",
      "i: 2, j: 2, product: 4\n",
      "i: 2, j: 3, product: 6\n"
     ]
    }
   ],
   "source": [
    "## nested loops\n",
    "## you can place one loop inside another loop\n",
    "print(\"Using nested loops:\")\n",
    "\n",
    "for i in range(3):\n",
    "    for j in range(4):\n",
    "        print(f\"i: {i}, j: {j}, product: {i * j}\")"
   ]
  },
  {
   "cell_type": "code",
   "execution_count": null,
   "id": "b7049878",
   "metadata": {},
   "outputs": [
    {
     "name": "stdout",
     "output_type": "stream",
     "text": [
      "55\n"
     ]
    }
   ],
   "source": [
    "## examples\n",
    "\n",
    "n = int(input('Enter the value of n: '))\n",
    "\n",
    "count = 0\n",
    "sum_count = 0\n",
    "\n",
    "while count <= n:\n",
    "    sum_count += count\n",
    "    count += 1\n",
    "\n",
    "print(sum_count)"
   ]
  },
  {
   "cell_type": "code",
   "execution_count": 15,
   "id": "72ddb9b5",
   "metadata": {},
   "outputs": [
    {
     "name": "stdout",
     "output_type": "stream",
     "text": [
      "55\n"
     ]
    }
   ],
   "source": [
    "# Calculate the sum of first N natural numbers using a for loop\n",
    "\n",
    "n = 10\n",
    "sum = 0\n",
    "for i in range(1, n+1):\n",
    "    sum += i\n",
    "\n",
    "print(sum)"
   ]
  },
  {
   "cell_type": "code",
   "execution_count": 36,
   "id": "50717cae",
   "metadata": {},
   "outputs": [
    {
     "name": "stdout",
     "output_type": "stream",
     "text": [
      "2\n",
      "3\n",
      "5\n",
      "7\n",
      "11\n",
      "13\n",
      "17\n",
      "19\n",
      "23\n",
      "29\n"
     ]
    }
   ],
   "source": [
    "## Prime numbers between 1 and 100\n",
    "## you can use else block with for loop too.\n",
    "\n",
    "prime_list = []\n",
    "\n",
    "for num in range(1,30):\n",
    "    if num > 1:\n",
    "        for num2 in range(2, num):\n",
    "            if num%num2 == 0:\n",
    "                break\n",
    "        else:\n",
    "            print(num)\n"
   ]
  }
 ],
 "metadata": {
  "kernelspec": {
   "display_name": "venv",
   "language": "python",
   "name": "python3"
  },
  "language_info": {
   "codemirror_mode": {
    "name": "ipython",
    "version": 3
   },
   "file_extension": ".py",
   "mimetype": "text/x-python",
   "name": "python",
   "nbconvert_exporter": "python",
   "pygments_lexer": "ipython3",
   "version": "3.12.2"
  }
 },
 "nbformat": 4,
 "nbformat_minor": 5
}
