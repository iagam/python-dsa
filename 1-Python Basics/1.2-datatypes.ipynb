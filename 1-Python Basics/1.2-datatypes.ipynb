{
 "cells": [
  {
   "cell_type": "markdown",
   "id": "13427a78",
   "metadata": {},
   "source": [
    "# Data types in Python"
   ]
  },
  {
   "cell_type": "markdown",
   "id": "438ed5d0",
   "metadata": {},
   "source": [
    "### 1. Definition:\n",
    "\n",
    "- Data types are a classification of data which tell the compiler or interpreter how the programmer intends to use the data.\n",
    "\n",
    "- They determine the type of operations that can be performed on the data, the values that the data can take, and the amount of memory needed to store the data.\n",
    "\n",
    "2. Importance of Data Types in Programming\n",
    "\n",
    "### 2. Explanation:\n",
    "\n",
    "- Data types ensure that data is stored in an efficient way.\n",
    "- They help in performing correct operations on data.\n",
    "- Proper use of data types can prevent errors and bugs in the program.\n"
   ]
  },
  {
   "cell_type": "code",
   "execution_count": 1,
   "id": "e7d512de",
   "metadata": {},
   "outputs": [
    {
     "name": "stdout",
     "output_type": "stream",
     "text": [
      "<class 'int'>\n"
     ]
    }
   ],
   "source": [
    "## Integer example\n",
    "age = 20\n",
    "print(type(age))"
   ]
  },
  {
   "cell_type": "code",
   "execution_count": 2,
   "id": "636c4b37",
   "metadata": {},
   "outputs": [
    {
     "name": "stdout",
     "output_type": "stream",
     "text": [
      "<class 'float'>\n"
     ]
    }
   ],
   "source": [
    "## Floating point data type\n",
    "height = 5.11\n",
    "print(type(height))"
   ]
  },
  {
   "cell_type": "code",
   "execution_count": 3,
   "id": "a00819ed",
   "metadata": {},
   "outputs": [
    {
     "name": "stdout",
     "output_type": "stream",
     "text": [
      "<class 'str'>\n"
     ]
    }
   ],
   "source": [
    "## String data type\n",
    "name = 'John'\n",
    "print(type(name))"
   ]
  },
  {
   "cell_type": "code",
   "execution_count": 4,
   "id": "913a6089",
   "metadata": {},
   "outputs": [
    {
     "name": "stdout",
     "output_type": "stream",
     "text": [
      "<class 'bool'>\n"
     ]
    }
   ],
   "source": [
    "## Boolean data type\n",
    "is_student = True\n",
    "print(type(is_student))"
   ]
  },
  {
   "cell_type": "code",
   "execution_count": null,
   "id": "08dbe6e8",
   "metadata": {},
   "outputs": [
    {
     "name": "stdout",
     "output_type": "stream",
     "text": [
      "<class 'bool'>\n"
     ]
    }
   ],
   "source": [
    "a=10\n",
    "b=10\n",
    "\n",
    "print(type(a==b))"
   ]
  },
  {
   "cell_type": "code",
   "execution_count": 7,
   "id": "57633912",
   "metadata": {},
   "outputs": [
    {
     "ename": "TypeError",
     "evalue": "can only concatenate str (not \"int\") to str",
     "output_type": "error",
     "traceback": [
      "\u001b[31m---------------------------------------------------------------------------\u001b[39m",
      "\u001b[31mTypeError\u001b[39m                                 Traceback (most recent call last)",
      "\u001b[36mCell\u001b[39m\u001b[36m \u001b[39m\u001b[32mIn[7]\u001b[39m\u001b[32m, line 3\u001b[39m\n\u001b[32m      1\u001b[39m \u001b[38;5;66;03m## Common error\u001b[39;00m\n\u001b[32m----> \u001b[39m\u001b[32m3\u001b[39m result = \u001b[33;43m'\u001b[39;49m\u001b[33;43mHello\u001b[39;49m\u001b[33;43m'\u001b[39;49m\u001b[43m \u001b[49m\u001b[43m+\u001b[49m\u001b[43m \u001b[49m\u001b[32;43m5\u001b[39;49m\n",
      "\u001b[31mTypeError\u001b[39m: can only concatenate str (not \"int\") to str"
     ]
    }
   ],
   "source": [
    "## Common error\n",
    "\n",
    "result = 'Hello' + 5"
   ]
  },
  {
   "cell_type": "code",
   "execution_count": 8,
   "id": "95d3acc8",
   "metadata": {},
   "outputs": [
    {
     "name": "stdout",
     "output_type": "stream",
     "text": [
      "Hello5\n"
     ]
    }
   ],
   "source": [
    "result = 'Hello' + str(5)\n",
    "\n",
    "print(result)"
   ]
  },
  {
   "cell_type": "code",
   "execution_count": null,
   "id": "65ded6e3",
   "metadata": {},
   "outputs": [],
   "source": []
  }
 ],
 "metadata": {
  "kernelspec": {
   "display_name": "venv",
   "language": "python",
   "name": "python3"
  },
  "language_info": {
   "codemirror_mode": {
    "name": "ipython",
    "version": 3
   },
   "file_extension": ".py",
   "mimetype": "text/x-python",
   "name": "python",
   "nbconvert_exporter": "python",
   "pygments_lexer": "ipython3",
   "version": "3.12.2"
  }
 },
 "nbformat": 4,
 "nbformat_minor": 5
}
