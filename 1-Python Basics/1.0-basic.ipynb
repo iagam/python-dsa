{
 "cells": [
  {
   "cell_type": "markdown",
   "id": "6189b572",
   "metadata": {},
   "source": [
    "Syntax refers to the set of rules that defines the combination of symbols that are considered to be correctly structured programs in a language. In simpler terms, syntax is about the correct arrangement of words and symbols in a code."
   ]
  },
  {
   "cell_type": "markdown",
   "id": "d6f253a0",
   "metadata": {},
   "source": [
    "Semantics refer to the meaning or the interpretation of the symbols, characters and commands in a language. It is about what the code is supposed to do when it runs."
   ]
  },
  {
   "cell_type": "markdown",
   "id": "47f4893b",
   "metadata": {},
   "source": [
    "## Case Sensitivity"
   ]
  },
  {
   "cell_type": "code",
   "execution_count": 1,
   "id": "e937e545",
   "metadata": {},
   "outputs": [
    {
     "name": "stdout",
     "output_type": "stream",
     "text": [
      "John\n",
      "Rob\n"
     ]
    }
   ],
   "source": [
    "## Basic syntax rules in Python\n",
    "## Case Sensitivity - Python is case sensitive\n",
    "\n",
    "name = \"John\"\n",
    "Name = \"Rob\"\n",
    "\n",
    "print(name)\n",
    "print(Name)\n"
   ]
  },
  {
   "cell_type": "markdown",
   "id": "69d9c1bf",
   "metadata": {},
   "source": [
    "## Indentation\n",
    "\n",
    "Indentation in python is used to define the structure and hierarchy of the code. Unlike many other programming languages that use braces {} to delimit blocks of code, Python uses indentation to determine the grouping of statements. This means that all the statements within a block must be indented at the same level."
   ]
  },
  {
   "cell_type": "code",
   "execution_count": 3,
   "id": "ccad5472",
   "metadata": {},
   "outputs": [
    {
     "name": "stdout",
     "output_type": "stream",
     "text": [
      "30\n",
      "30\n"
     ]
    }
   ],
   "source": [
    "## Indentation\n",
    "## Python uses indentation to define blocks of code. Consistent use of spaces or tabs is crucial.\n",
    "\n",
    "age = 30\n",
    "if age>20:\n",
    "    print(age) # Indented block within the if statement\n",
    "print(age)"
   ]
  },
  {
   "cell_type": "markdown",
   "id": "d37fa752",
   "metadata": {},
   "source": [
    "## Comments"
   ]
  },
  {
   "cell_type": "code",
   "execution_count": 5,
   "id": "96e1b577",
   "metadata": {},
   "outputs": [
    {
     "data": {
      "text/plain": [
       "'\\nThis is a multiline comment.\\nI can add another line here.\\nAnd another one.\\n'"
      ]
     },
     "execution_count": 5,
     "metadata": {},
     "output_type": "execute_result"
    }
   ],
   "source": [
    "# This is a single line comment.\n",
    "\n",
    "'''\n",
    "This is a multiline comment.\n",
    "I can add another line here.\n",
    "And another one.\n",
    "'''"
   ]
  },
  {
   "cell_type": "markdown",
   "id": "3ebd3ac9",
   "metadata": {},
   "source": [
    "## Line Continuation"
   ]
  },
  {
   "cell_type": "code",
   "execution_count": 6,
   "id": "d56201d0",
   "metadata": {},
   "outputs": [
    {
     "name": "stdout",
     "output_type": "stream",
     "text": [
      "45\n"
     ]
    }
   ],
   "source": [
    "## Use a backslash (\\) to continue a statement to the next line\n",
    "\n",
    "total = 1+2+3+4+5+\\\n",
    "6+7+8+9\n",
    "\n",
    "print(total)"
   ]
  },
  {
   "cell_type": "markdown",
   "id": "36e7ba2d",
   "metadata": {},
   "source": [
    "## Multiple statements in a single line"
   ]
  },
  {
   "cell_type": "code",
   "execution_count": 7,
   "id": "c38163bc",
   "metadata": {},
   "outputs": [
    {
     "name": "stdout",
     "output_type": "stream",
     "text": [
      "15\n"
     ]
    }
   ],
   "source": [
    "x=5; y=10; z=x+y\n",
    "print(z)"
   ]
  },
  {
   "cell_type": "markdown",
   "id": "2ddeff94",
   "metadata": {},
   "source": [
    "# Understanding Semantics"
   ]
  },
  {
   "cell_type": "code",
   "execution_count": 9,
   "id": "9f7276bf",
   "metadata": {},
   "outputs": [
    {
     "name": "stdout",
     "output_type": "stream",
     "text": [
      "<class 'int'> 20\n",
      "<class 'str'> John\n"
     ]
    }
   ],
   "source": [
    "# Variable Assignment\n",
    "age=20 # age is an integer\n",
    "name='John' #name is a str\n",
    "\n",
    "# Type Inferences\n",
    "print(type(age), age)\n",
    "print(type(name), name)"
   ]
  },
  {
   "cell_type": "code",
   "execution_count": 10,
   "id": "be27e104",
   "metadata": {},
   "outputs": [
    {
     "name": "stdout",
     "output_type": "stream",
     "text": [
      "Correct indentation\n",
      "This will print\n",
      "This will also print outside the if block\n"
     ]
    }
   ],
   "source": [
    "## Code example of indentation\n",
    "if True:\n",
    "    print('Correct indentation')\n",
    "    if False:\n",
    "        print('This wont print')\n",
    "    print('This will print')\n",
    "print('This will also print outside the if block')"
   ]
  },
  {
   "cell_type": "code",
   "execution_count": null,
   "id": "621621da",
   "metadata": {},
   "outputs": [],
   "source": []
  }
 ],
 "metadata": {
  "kernelspec": {
   "display_name": "venv",
   "language": "python",
   "name": "python3"
  },
  "language_info": {
   "codemirror_mode": {
    "name": "ipython",
    "version": 3
   },
   "file_extension": ".py",
   "mimetype": "text/x-python",
   "name": "python",
   "nbconvert_exporter": "python",
   "pygments_lexer": "ipython3",
   "version": "3.12.2"
  }
 },
 "nbformat": 4,
 "nbformat_minor": 5
}
