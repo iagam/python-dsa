{
 "cells": [
  {
   "cell_type": "markdown",
   "id": "88e8c143",
   "metadata": {},
   "source": [
    "# Variables"
   ]
  },
  {
   "cell_type": "markdown",
   "id": "25571643",
   "metadata": {},
   "source": [
    "Variables are fundamental elements in programming used to store data that can be referenced and manipulated in a program. In Python, variables are created when you assign a value to them, and they do not need explicit declaration to reserve memory space. The declaration happens automatically when you assign a value to a variable."
   ]
  },
  {
   "cell_type": "code",
   "execution_count": 1,
   "id": "09e63eb8",
   "metadata": {},
   "outputs": [
    {
     "name": "stdout",
     "output_type": "stream",
     "text": [
      "age :32\n",
      "height :6.5\n",
      "name :John\n",
      "is_student :True\n"
     ]
    }
   ],
   "source": [
    "# Declaring and assigning a varibale\n",
    "\n",
    "age=32\n",
    "height=6.5\n",
    "name='John'\n",
    "is_student=True\n",
    "\n",
    "print(f'age :{age}')\n",
    "print(f'height :{height}')\n",
    "print(f'name :{name}')\n",
    "print(f'is_student :{is_student}')"
   ]
  },
  {
   "cell_type": "code",
   "execution_count": 2,
   "id": "9cd646ec",
   "metadata": {},
   "outputs": [],
   "source": [
    "## Naming Conventions\n",
    "## Variable names should be descriptive\n",
    "## They must start with a letter or an '_' and contains letter,numbers and underscores\n",
    "## variables names case sensitive\n",
    "\n",
    "# valid variable names\n",
    "first_name = 'John'\n",
    "last_name = 'Casey'\n",
    "\n",
    "# invalid variable names\n",
    "# 2age = 30\n",
    "# first-name = 'John'\n",
    "# @name = 'John'"
   ]
  },
  {
   "cell_type": "code",
   "execution_count": 3,
   "id": "f1d31327",
   "metadata": {},
   "outputs": [
    {
     "name": "stdout",
     "output_type": "stream",
     "text": [
      "age :<class 'int'>\n",
      "height :<class 'float'>\n",
      "name :<class 'str'>\n",
      "is_student :<class 'bool'>\n"
     ]
    }
   ],
   "source": [
    "## Understanding variable types\n",
    "# Python is dynamically typed, a variable is defined at runtime\n",
    "\n",
    "age = 30 #int\n",
    "height = 6.5\n",
    "name = 'John' #str\n",
    "is_student = True #boolean\n",
    "\n",
    "print(f\"age :{type(age)}\")\n",
    "print(f\"height :{type(height)}\")\n",
    "print(f\"name :{type(name)}\")\n",
    "print(f\"is_student :{type(is_student)}\")"
   ]
  },
  {
   "cell_type": "code",
   "execution_count": 5,
   "id": "143bc180",
   "metadata": {},
   "outputs": [
    {
     "name": "stdout",
     "output_type": "stream",
     "text": [
      "age(25) is of type: <class 'int'>\n",
      "Performing type conversions\n",
      "age_str(25) is of type: <class 'str'>\n"
     ]
    }
   ],
   "source": [
    "# Type checking and conversions\n",
    "\n",
    "age = 25\n",
    "print(f'age({age}) is of type: {type(age)}')\n",
    "\n",
    "print('Performing type conversions')\n",
    "age_str = str(age)\n",
    "print(f\"age_str({age_str}) is of type: {type(age_str)}\")"
   ]
  },
  {
   "cell_type": "code",
   "execution_count": 6,
   "id": "fcdf474d",
   "metadata": {},
   "outputs": [
    {
     "ename": "ValueError",
     "evalue": "invalid literal for int() with base 10: 'John'",
     "output_type": "error",
     "traceback": [
      "\u001b[31m---------------------------------------------------------------------------\u001b[39m",
      "\u001b[31mValueError\u001b[39m                                Traceback (most recent call last)",
      "\u001b[36mCell\u001b[39m\u001b[36m \u001b[39m\u001b[32mIn[6]\u001b[39m\u001b[32m, line 3\u001b[39m\n\u001b[32m      1\u001b[39m \u001b[38;5;66;03m## A string cannot be converted into an integer\u001b[39;00m\n\u001b[32m      2\u001b[39m name=\u001b[33m'\u001b[39m\u001b[33mJohn\u001b[39m\u001b[33m'\u001b[39m\n\u001b[32m----> \u001b[39m\u001b[32m3\u001b[39m name_int = \u001b[38;5;28;43mint\u001b[39;49m\u001b[43m(\u001b[49m\u001b[43mname\u001b[49m\u001b[43m)\u001b[49m\n\u001b[32m      4\u001b[39m \u001b[38;5;28mprint\u001b[39m(name_int)\n",
      "\u001b[31mValueError\u001b[39m: invalid literal for int() with base 10: 'John'"
     ]
    }
   ],
   "source": [
    "## A string cannot be converted into an integer\n",
    "name='John'\n",
    "name_int = int(name)\n",
    "print(name_int)"
   ]
  },
  {
   "cell_type": "code",
   "execution_count": 7,
   "id": "f3966123",
   "metadata": {},
   "outputs": [
    {
     "name": "stdout",
     "output_type": "stream",
     "text": [
      "<class 'float'>\n",
      "int representation of height: <class 'int'>\n"
     ]
    }
   ],
   "source": [
    "height=5.11\n",
    "print(type(height))\n",
    "\n",
    "print(f'int representation of height: {type(int(height))}')"
   ]
  },
  {
   "cell_type": "code",
   "execution_count": 8,
   "id": "4c09091d",
   "metadata": {},
   "outputs": [
    {
     "name": "stdout",
     "output_type": "stream",
     "text": [
      "10 <class 'int'>\n",
      "Hello <class 'str'>\n",
      "3.14 <class 'float'>\n"
     ]
    }
   ],
   "source": [
    "## Dynamic Typing\n",
    "## Python allows the type of a vraible to change as the program executes\n",
    "var = 10  # int\n",
    "print(var, type(var))\n",
    "\n",
    "var = \"Hello\"\n",
    "print(var, type(var))\n",
    "\n",
    "var = 3.14\n",
    "print(var, type(var))"
   ]
  },
  {
   "cell_type": "code",
   "execution_count": 9,
   "id": "c694fb27",
   "metadata": {},
   "outputs": [
    {
     "name": "stdout",
     "output_type": "stream",
     "text": [
      "29 <class 'int'>\n"
     ]
    }
   ],
   "source": [
    "## input\n",
    "age = int(input(\"What is your age?\"))\n",
    "print(age, type(age))"
   ]
  },
  {
   "cell_type": "code",
   "execution_count": 13,
   "id": "6d94c688",
   "metadata": {},
   "outputs": [
    {
     "name": "stdout",
     "output_type": "stream",
     "text": [
      "First number: 22.0; Second number: 7.0\n",
      "Sum: 29.0\n",
      "Difference: 15.0\n",
      "Product: 154.0\n",
      "Quotient: 3.142857142857143\n"
     ]
    }
   ],
   "source": [
    "# simple calculator\n",
    "\n",
    "num1 = float(input(\"Enter first number: \"))\n",
    "num2 = float(input(\"Enter second number: \"))\n",
    "\n",
    "sum = num1 + num2\n",
    "difference = num1 - num2\n",
    "product = num1 * num2\n",
    "quotient = num1 / num2\n",
    "\n",
    "print(f'First number: {num1}; Second number: {num2}')\n",
    "print(f'Sum: {sum}')\n",
    "print(f\"Difference: {difference}\")\n",
    "print(f'Product: {product}')\n",
    "print(f'Quotient: {quotient}')"
   ]
  }
 ],
 "metadata": {
  "kernelspec": {
   "display_name": "venv",
   "language": "python",
   "name": "python3"
  },
  "language_info": {
   "codemirror_mode": {
    "name": "ipython",
    "version": 3
   },
   "file_extension": ".py",
   "mimetype": "text/x-python",
   "name": "python",
   "nbconvert_exporter": "python",
   "pygments_lexer": "ipython3",
   "version": "3.12.2"
  }
 },
 "nbformat": 4,
 "nbformat_minor": 5
}
