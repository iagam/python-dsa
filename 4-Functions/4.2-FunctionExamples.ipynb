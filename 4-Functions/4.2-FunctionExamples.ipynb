{
 "cells": [
  {
   "cell_type": "markdown",
   "id": "6eedcb66",
   "metadata": {},
   "source": [
    "# Functions Examples"
   ]
  },
  {
   "cell_type": "markdown",
   "id": "ac466d7a",
   "metadata": {},
   "source": [
    "#### 1. Temperature Conversion"
   ]
  },
  {
   "cell_type": "code",
   "execution_count": 3,
   "id": "d3c6787b",
   "metadata": {},
   "outputs": [
    {
     "name": "stdout",
     "output_type": "stream",
     "text": [
      "104.0\n"
     ]
    }
   ],
   "source": [
    "## Create a function that takes in Celsius temperature and converts to fahrenheit\n",
    "\n",
    "def celsius_to_fahrenheit(temperature):\n",
    "    \"\"\"\n",
    "    Takes in a celsius temperature and converts\n",
    "    it to fahrenheit temperature.\n",
    "\n",
    "    Parameters:\n",
    "    temperature (float): The value of celsius temperature\n",
    "\n",
    "    Returns:\n",
    "    Value of temperature in Fahrenheit\n",
    "    \"\"\"\n",
    "\n",
    "    return (1.8 * temperature) + 32\n",
    "\n",
    "print(celsius_to_fahrenheit(40))"
   ]
  },
  {
   "cell_type": "code",
   "execution_count": null,
   "id": "0bd9e329",
   "metadata": {},
   "outputs": [
    {
     "name": "stdout",
     "output_type": "stream",
     "text": [
      "37.78\n"
     ]
    }
   ],
   "source": [
    "## Create a function that takes in a temperature and converts to given unit\n",
    "\n",
    "def convert_temperature(temperature, unit):\n",
    "    \"\"\"\n",
    "    Convert temperature between Celsius and Fahrenheit.\n",
    "\n",
    "    Parameters:\n",
    "    temperature (float): The input temperature value.\n",
    "    unit (str): Target unit - 'C' for Celsius, 'F' for Fahrenheit.\n",
    "\n",
    "    Returns:\n",
    "    float: Converted temperature value.\n",
    "    \"\"\"\n",
    "\n",
    "    if unit.lower() == 'f':\n",
    "        val = round((1.8 * temperature) + 32,2) # Celsius to fahrenheit conversion\n",
    "    elif unit.lower() == 'c':\n",
    "        val = round((temperature - 32) * (5/9),2) # fahrenheit to celsius conversion\n",
    "    else:\n",
    "        val = None\n",
    "    return temperature, unit, val\n",
    "\n",
    "# input_temp, unit, output_temp = convert_temperature(100, \"C\")\n",
    "# print(f\"Converted temperature for {input_temp} is {output_temp} degree {unit} \")\n",
    "\n",
    "## Unpacking multiple values from the return functiom\n",
    "*_, val = convert_temperature(100, \"C\")\n",
    "print(val)"
   ]
  },
  {
   "cell_type": "markdown",
   "id": "fc50077a",
   "metadata": {},
   "source": [
    "### 3. Password strength checker"
   ]
  },
  {
   "cell_type": "code",
   "execution_count": null,
   "id": "25a992fd",
   "metadata": {},
   "outputs": [
    {
     "name": "stdout",
     "output_type": "stream",
     "text": [
      "Password cannot contain spaces. Re-enter password!\n"
     ]
    },
    {
     "data": {
      "text/plain": [
       "False"
      ]
     },
     "execution_count": 9,
     "metadata": {},
     "output_type": "execute_result"
    }
   ],
   "source": []
  },
  {
   "cell_type": "markdown",
   "id": "244b41c5",
   "metadata": {},
   "source": []
  }
 ],
 "metadata": {
  "kernelspec": {
   "display_name": "venv",
   "language": "python",
   "name": "python3"
  },
  "language_info": {
   "codemirror_mode": {
    "name": "ipython",
    "version": 3
   },
   "file_extension": ".py",
   "mimetype": "text/x-python",
   "name": "python",
   "nbconvert_exporter": "python",
   "pygments_lexer": "ipython3",
   "version": "3.12.2"
  }
 },
 "nbformat": 4,
 "nbformat_minor": 5
}
