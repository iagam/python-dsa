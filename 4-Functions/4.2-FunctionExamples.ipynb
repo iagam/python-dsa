{
 "cells": [
  {
   "cell_type": "markdown",
   "id": "6eedcb66",
   "metadata": {},
   "source": [
    "# Functions Examples"
   ]
  },
  {
   "cell_type": "markdown",
   "id": "ac466d7a",
   "metadata": {},
   "source": [
    "#### 1. Temperature Conversion"
   ]
  },
  {
   "cell_type": "code",
   "execution_count": 3,
   "id": "d3c6787b",
   "metadata": {},
   "outputs": [
    {
     "name": "stdout",
     "output_type": "stream",
     "text": [
      "104.0\n"
     ]
    }
   ],
   "source": [
    "## Create a function that takes in Celsius temperature and converts to fahrenheit\n",
    "\n",
    "def celsius_to_fahrenheit(temperature):\n",
    "    \"\"\"\n",
    "    Takes in a celsius temperature and converts\n",
    "    it to fahrenheit temperature.\n",
    "\n",
    "    Parameters:\n",
    "    temperature (float): The value of celsius temperature\n",
    "\n",
    "    Returns:\n",
    "    Value of temperature in Fahrenheit\n",
    "    \"\"\"\n",
    "\n",
    "    return (1.8 * temperature) + 32\n",
    "\n",
    "print(celsius_to_fahrenheit(40))"
   ]
  },
  {
   "cell_type": "code",
   "execution_count": null,
   "id": "0bd9e329",
   "metadata": {},
   "outputs": [
    {
     "name": "stdout",
     "output_type": "stream",
     "text": [
      "37.78\n"
     ]
    }
   ],
   "source": [
    "## Create a function that takes in a temperature and converts to given unit\n",
    "\n",
    "def convert_temperature(temperature, unit):\n",
    "    \"\"\"\n",
    "    Convert temperature between Celsius and Fahrenheit.\n",
    "\n",
    "    Parameters:\n",
    "    temperature (float): The input temperature value.\n",
    "    unit (str): Target unit - 'C' for Celsius, 'F' for Fahrenheit.\n",
    "\n",
    "    Returns:\n",
    "    float: Converted temperature value.\n",
    "    \"\"\"\n",
    "\n",
    "    if unit.lower() == 'f':\n",
    "        val = round((1.8 * temperature) + 32,2) # Celsius to fahrenheit conversion\n",
    "    elif unit.lower() == 'c':\n",
    "        val = round((temperature - 32) * (5/9),2) # fahrenheit to celsius conversion\n",
    "    else:\n",
    "        val = None\n",
    "    return temperature, unit, val\n",
    "\n",
    "# input_temp, unit, output_temp = convert_temperature(100, \"C\")\n",
    "# print(f\"Converted temperature for {input_temp} is {output_temp} degree {unit} \")\n",
    "\n",
    "## Unpacking multiple values from the return functiom\n",
    "*_, val = convert_temperature(100, \"C\")\n",
    "print(val)"
   ]
  },
  {
   "cell_type": "markdown",
   "id": "fc50077a",
   "metadata": {},
   "source": [
    "### 3. Password strength checker"
   ]
  },
  {
   "cell_type": "code",
   "execution_count": null,
   "id": "25a992fd",
   "metadata": {},
   "outputs": [
    {
     "data": {
      "text/plain": [
       "True"
      ]
     },
     "execution_count": 10,
     "metadata": {},
     "output_type": "execute_result"
    }
   ],
   "source": [
    "def is_strong_password():\n",
    "    \"\"\"\n",
    "    Prompts the user to enter a password and checks if it meets strength criteria.\n",
    "\n",
    "    The password is evaluated against the following rules:\n",
    "    - Must be at least 8 characters long\n",
    "    - Must contain at least one digit\n",
    "    - Must contain at least one uppercase letter\n",
    "    - Must contain at least one lowercase letter\n",
    "    - Must contain at least one special character (e.g., !, @, #, etc.)\n",
    "    - Must not contain any spaces\n",
    "\n",
    "    Returns:\n",
    "        bool: True if the password meets all strength requirements, False otherwise.\n",
    "    \"\"\"\n",
    "\n",
    "    password = str(input(\"Enter a password: \"))\n",
    "    # Special characters\n",
    "    special_char = list(\"!@#$%^&*()-_=+[]{};:'\\\",.<>/?|\")\n",
    "\n",
    "    # Capital letters\n",
    "    capital_letters = [chr(c) for c in range(ord(\"A\"), ord(\"Z\") + 1)]\n",
    "\n",
    "    if len(password) < 8:\n",
    "        print(\"Password must be greater than 8 characters. Re-enter password!\")\n",
    "        return False\n",
    "\n",
    "    if not any(char.isdigit() for char in password):\n",
    "        print(\"Password must contain a digit. Re-enter password!\")\n",
    "        return False\n",
    "\n",
    "    if any(char.isspace() for char in password):\n",
    "        print(\"Password cannot contain spaces. Re-enter password!\")\n",
    "        return False\n",
    "\n",
    "    if not any(char in special_char for char in password):\n",
    "        print(\"Password must contain a special character. Re-enter password!\")\n",
    "        return False\n",
    "\n",
    "    if not any(char.isupper() for char in password):\n",
    "        print(\"Password must contain a capital letter. Re-enter password!\")\n",
    "        return False\n",
    "\n",
    "    if not any(char.islower() for char in password):\n",
    "        print(\"Password must contain a small letter. Re-enter password!\")\n",
    "        return False\n",
    "\n",
    "    else:\n",
    "        return True\n",
    "\n",
    "\n",
    "is_strong_password()"
   ]
  },
  {
   "cell_type": "markdown",
   "id": "244b41c5",
   "metadata": {},
   "source": [
    "### 3. Calculate the total cost of items in a shopping cart."
   ]
  },
  {
   "cell_type": "markdown",
   "id": "d3dcb714",
   "metadata": {},
   "source": []
  }
 ],
 "metadata": {
  "kernelspec": {
   "display_name": "venv",
   "language": "python",
   "name": "python3"
  },
  "language_info": {
   "codemirror_mode": {
    "name": "ipython",
    "version": 3
   },
   "file_extension": ".py",
   "mimetype": "text/x-python",
   "name": "python",
   "nbconvert_exporter": "python",
   "pygments_lexer": "ipython3",
   "version": "3.12.2"
  }
 },
 "nbformat": 4,
 "nbformat_minor": 5
}
