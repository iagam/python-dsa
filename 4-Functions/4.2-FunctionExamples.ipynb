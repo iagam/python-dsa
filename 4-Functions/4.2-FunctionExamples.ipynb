{
 "cells": [
  {
   "cell_type": "markdown",
   "id": "6eedcb66",
   "metadata": {},
   "source": [
    "# Functions Examples"
   ]
  },
  {
   "cell_type": "markdown",
   "id": "ac466d7a",
   "metadata": {},
   "source": [
    "#### 1. Temperature Conversion"
   ]
  },
  {
   "cell_type": "code",
   "execution_count": 3,
   "id": "d3c6787b",
   "metadata": {},
   "outputs": [
    {
     "name": "stdout",
     "output_type": "stream",
     "text": [
      "104.0\n"
     ]
    }
   ],
   "source": [
    "## Create a function that takes in Celsius temperature and converts to fahrenheit\n",
    "\n",
    "def celsius_to_fahrenheit(temperature):\n",
    "    \"\"\"\n",
    "    Takes in a celsius temperature and converts\n",
    "    it to fahrenheit temperature.\n",
    "\n",
    "    Parameters:\n",
    "    temperature (float): The value of celsius temperature\n",
    "\n",
    "    Returns:\n",
    "    Value of temperature in Fahrenheit\n",
    "    \"\"\"\n",
    "\n",
    "    return (1.8 * temperature) + 32\n",
    "\n",
    "print(celsius_to_fahrenheit(40))"
   ]
  },
  {
   "cell_type": "code",
   "execution_count": null,
   "id": "0bd9e329",
   "metadata": {},
   "outputs": [
    {
     "name": "stdout",
     "output_type": "stream",
     "text": [
      "37.78\n"
     ]
    }
   ],
   "source": [
    "## Create a function that takes in a temperature and converts to given unit\n",
    "\n",
    "def convert_temperature(temperature, unit):\n",
    "    \"\"\"\n",
    "    Convert temperature between Celsius and Fahrenheit.\n",
    "\n",
    "    Parameters:\n",
    "    temperature (float): The input temperature value.\n",
    "    unit (str): Target unit - 'C' for Celsius, 'F' for Fahrenheit.\n",
    "\n",
    "    Returns:\n",
    "    float: Converted temperature value.\n",
    "    \"\"\"\n",
    "\n",
    "    if unit.lower() == 'f':\n",
    "        val = round((1.8 * temperature) + 32,2) # Celsius to fahrenheit conversion\n",
    "    elif unit.lower() == 'c':\n",
    "        val = round((temperature - 32) * (5/9),2) # fahrenheit to celsius conversion\n",
    "    else:\n",
    "        val = None\n",
    "    return temperature, unit, val\n",
    "\n",
    "# input_temp, unit, output_temp = convert_temperature(100, \"C\")\n",
    "# print(f\"Converted temperature for {input_temp} is {output_temp} degree {unit} \")\n",
    "\n",
    "## Unpacking multiple values from the return functiom\n",
    "*_, val = convert_temperature(100, \"C\")\n",
    "print(val)"
   ]
  },
  {
   "cell_type": "markdown",
   "id": "fc50077a",
   "metadata": {},
   "source": [
    "### 3. Password strength checker"
   ]
  },
  {
   "cell_type": "code",
   "execution_count": 10,
   "id": "25a992fd",
   "metadata": {},
   "outputs": [
    {
     "data": {
      "text/plain": [
       "True"
      ]
     },
     "execution_count": 10,
     "metadata": {},
     "output_type": "execute_result"
    }
   ],
   "source": [
    "def is_strong_password():\n",
    "    \"\"\"\n",
    "    Prompts the user to enter a password and checks if it meets strength criteria.\n",
    "\n",
    "    The password is evaluated against the following rules:\n",
    "    - Must be at least 8 characters long\n",
    "    - Must contain at least one digit\n",
    "    - Must contain at least one uppercase letter\n",
    "    - Must contain at least one lowercase letter\n",
    "    - Must contain at least one special character (e.g., !, @, #, etc.)\n",
    "    - Must not contain any spaces\n",
    "\n",
    "    Returns:\n",
    "        bool: True if the password meets all strength requirements, False otherwise.\n",
    "    \"\"\"\n",
    "\n",
    "    password = str(input(\"Enter a password: \"))\n",
    "    # Special characters\n",
    "    special_char = list(\"!@#$%^&*()-_=+[]{};:'\\\",.<>/?|\")\n",
    "\n",
    "    # Capital letters\n",
    "    capital_letters = [chr(c) for c in range(ord(\"A\"), ord(\"Z\") + 1)]\n",
    "\n",
    "    if len(password) < 8:\n",
    "        print(\"Password must be greater than 8 characters. Re-enter password!\")\n",
    "        return False\n",
    "\n",
    "    if not any(char.isdigit() for char in password):\n",
    "        print(\"Password must contain a digit. Re-enter password!\")\n",
    "        return False\n",
    "\n",
    "    if any(char.isspace() for char in password):\n",
    "        print(\"Password cannot contain spaces. Re-enter password!\")\n",
    "        return False\n",
    "\n",
    "    if not any(char in special_char for char in password):\n",
    "        print(\"Password must contain a special character. Re-enter password!\")\n",
    "        return False\n",
    "\n",
    "    if not any(char.isupper() for char in password):\n",
    "        print(\"Password must contain a capital letter. Re-enter password!\")\n",
    "        return False\n",
    "\n",
    "    if not any(char.islower() for char in password):\n",
    "        print(\"Password must contain a small letter. Re-enter password!\")\n",
    "        return False\n",
    "\n",
    "    else:\n",
    "        return True\n",
    "\n",
    "\n",
    "is_strong_password()"
   ]
  },
  {
   "cell_type": "markdown",
   "id": "244b41c5",
   "metadata": {},
   "source": [
    "### 3. Calculate the total cost of items in a shopping cart."
   ]
  },
  {
   "cell_type": "code",
   "execution_count": 21,
   "id": "d3dcb714",
   "metadata": {},
   "outputs": [
    {
     "name": "stdout",
     "output_type": "stream",
     "text": [
      "Total cart value: INR 810\n"
     ]
    }
   ],
   "source": [
    "## Example cart data\n",
    "\n",
    "cart = [\n",
    "    {\"name\": \"Apple\", \"rate\": 40, \"quantity\": 8},\n",
    "    {\"name\": \"Mango\", \"rate\": 30, \"quantity\": 5},\n",
    "    {\"name\": \"Oranges\", \"rate\": 20, \"quantity\": 5},\n",
    "    {\"name\": \"Kiwi\", \"rate\": 60, \"quantity\": 4},\n",
    "]\n",
    "\n",
    "def calculate_total_cost(cart):\n",
    "    \"\"\"\n",
    "    Takes in a cart as a list of dictionaries. Iterates through\n",
    "    each item and calculates cart value.\n",
    "\n",
    "    Returns:\n",
    "        float: Total value of the cart items\n",
    "    \"\"\"\n",
    "    cart_value = 0\n",
    "\n",
    "    for item in cart:\n",
    "        rate = item.get('rate',0)\n",
    "        quantity = item.get('quantity',0)\n",
    "        price = rate * quantity\n",
    "        cart_value+=price\n",
    "\n",
    "    return cart_value\n",
    "\n",
    "total_cost = calculate_total_cost(cart)\n",
    "print(f\"Total cart value: INR {total_cost}\")"
   ]
  },
  {
   "cell_type": "markdown",
   "id": "ae245cae",
   "metadata": {},
   "source": [
    "### 4. Check if a string is a palindrome"
   ]
  },
  {
   "cell_type": "code",
   "execution_count": 33,
   "id": "08578eb8",
   "metadata": {},
   "outputs": [
    {
     "name": "stdout",
     "output_type": "stream",
     "text": [
      "True\n"
     ]
    }
   ],
   "source": [
    "def is_palindrome(string):\n",
    "    \"\"\"\n",
    "    Takes in a string and checks if the string is a plaindrome.\n",
    "\n",
    "    Returns:\n",
    "        bool: True or false\n",
    "    \"\"\"\n",
    "\n",
    "    original_string = string.lower().replace(\" \",\"\")\n",
    "    reversed_string = original_string[::-1]\n",
    "\n",
    "    if original_string == reversed_string:\n",
    "        return True\n",
    "    False\n",
    "\n",
    "print(is_palindrome('panap'))"
   ]
  },
  {
   "cell_type": "markdown",
   "id": "89893840",
   "metadata": {},
   "source": [
    "### 5. Calculate the factorials of a number using recursion\n"
   ]
  },
  {
   "cell_type": "code",
   "execution_count": 34,
   "id": "d839395d",
   "metadata": {},
   "outputs": [
    {
     "name": "stdout",
     "output_type": "stream",
     "text": [
      "120\n"
     ]
    }
   ],
   "source": [
    "def factorial(n):\n",
    "    \"\"\"\n",
    "    Calculate the factorial of a number using recursion\n",
    "\n",
    "    Returns:\n",
    "        int: Value\n",
    "    \"\"\"\n",
    "\n",
    "    if n==0:\n",
    "        return 1\n",
    "    else:\n",
    "        return n * factorial(n-1)\n",
    "\n",
    "print(factorial(5))\n"
   ]
  },
  {
   "cell_type": "markdown",
   "id": "b9a01973",
   "metadata": {},
   "source": [
    "### 6. A function to read a file and count the frequency of each word"
   ]
  },
  {
   "cell_type": "code",
   "execution_count": 49,
   "id": "cac8e941",
   "metadata": {},
   "outputs": [
    {
     "name": "stdout",
     "output_type": "stream",
     "text": [
      "{'in': 4, 'the': 6, 'heart': 1, 'of': 5, 'bustling': 1, 'city': 2, 'stood': 1, 'an': 2, 'old': 1, 'library': 1, 'its': 1, 'tall': 1, 'arched': 1, 'windows': 1, 'let': 1, 'streams': 1, 'golden': 1, 'light': 1, 'every': 1, 'morning': 1, 'dust': 1, 'motes': 1, 'danced': 1, 'lazily': 1, 'air': 1, 'swirling': 1, 'between': 2, 'shelves': 1, 'stacked': 1, 'high': 1, 'with': 2, 'books': 1, 'people': 1, 'from': 1, 'all': 1, 'walks': 1, 'life': 1, 'came': 1, 'here—students': 1, 'writers': 1, 'dreamers': 1, 'and': 3, 'wanderers': 1, 'some': 1, 'sought': 1, 'knowledge': 1, 'others': 1, 'simply': 1, 'a': 8, 'quiet': 2, 'place': 1, 'to': 3, 'think': 1, 'scent': 1, 'paper': 1, 'ink': 1, 'wrapped': 1, 'around': 1, 'visitors': 1, 'like': 1, 'warm': 1, 'blanket': 1, 'corner': 1, 'child': 1, 'sat': 1, 'cross-legged': 1, 'reading': 1, 'story': 1, 'about': 1, 'distant': 1, 'lands': 1, 'elderly': 1, 'man': 1, 'flipped': 1, 'through': 1, 'newspapers': 1, 'nodding': 1, 'at': 1, 'familiar': 1, 'headlines': 1, 'librarian': 1, 'moved': 1, 'softly': 1, 'aisles': 1, 'arranging': 1, 'volumes': 1, 'practiced': 1, 'care': 1, 'outside': 1, 'roared': 1, 'but': 1, 'inside': 1, 'time': 1, 'seemed': 1, 'slow': 1, 'gentle': 1, 'hum': 1, 'it': 1, 'was': 1, 'sanctuary': 1, 'words': 1, 'for': 1, 'many': 1, 'second': 1, 'home': 1}\n"
     ]
    }
   ],
   "source": [
    "## A function to read a file and count the frequency of each word\n",
    "\n",
    "def count_word_frequency(file_path):\n",
    "    \"\"\"\n",
    "    Reads a file and counts the frequency of each word.\n",
    "\n",
    "    Parameters:\n",
    "    file_path (str): The path to the file to be read.\n",
    "\n",
    "    Returns:\n",
    "    dict: A dictionary with words as keys and their frequencies as values.\n",
    "    \"\"\"\n",
    "\n",
    "    word_count = {}\n",
    "\n",
    "    with open(file_path, 'r') as file:\n",
    "        for line in file:\n",
    "            words = line.split()\n",
    "            for word in words:\n",
    "                word = word.lower().strip('.,!?\";:()[]{}')  # Normalize the word\n",
    "                if word in word_count:\n",
    "                    word_count[word] += 1\n",
    "                else:\n",
    "                    word_count[word] = 1\n",
    "\n",
    "    return word_count\n",
    "\n",
    "# Example usage\n",
    "file_path = 'passage.txt'  # Replace with your file path\n",
    "word_frequency = count_word_frequency(file_path)\n",
    "print(word_frequency)"
   ]
  },
  {
   "cell_type": "markdown",
   "id": "5fd5a092",
   "metadata": {},
   "source": [
    "### 7. Validate an email address"
   ]
  },
  {
   "cell_type": "code",
   "execution_count": 51,
   "id": "ad92df52",
   "metadata": {},
   "outputs": [
    {
     "name": "stdout",
     "output_type": "stream",
     "text": [
      "True\n",
      "False\n"
     ]
    }
   ],
   "source": [
    "import re\n",
    "\n",
    "def is_valid_email(email):\n",
    "    \"\"\"\n",
    "    This function checks if an email is valid.\n",
    "\n",
    "    Returns:\n",
    "        bool: True or False based on validation\n",
    "    \"\"\"\n",
    "\n",
    "    pattern = r\"^[a-zA-Z0-9_.+-]+@[a-zA-Z0-9-]+\\.[a-zA-Z0-9-.]+$\"\n",
    "    if re.match(pattern, email):\n",
    "        return True\n",
    "    else:\n",
    "        return False\n",
    "\n",
    "\n",
    "# Example usage\n",
    "print(is_valid_email(\"test@example.com\"))\n",
    "print(is_valid_email(\"valid-email\"))"
   ]
  }
 ],
 "metadata": {
  "kernelspec": {
   "display_name": "venv",
   "language": "python",
   "name": "python3"
  },
  "language_info": {
   "codemirror_mode": {
    "name": "ipython",
    "version": 3
   },
   "file_extension": ".py",
   "mimetype": "text/x-python",
   "name": "python",
   "nbconvert_exporter": "python",
   "pygments_lexer": "ipython3",
   "version": "3.12.2"
  }
 },
 "nbformat": 4,
 "nbformat_minor": 5
}
