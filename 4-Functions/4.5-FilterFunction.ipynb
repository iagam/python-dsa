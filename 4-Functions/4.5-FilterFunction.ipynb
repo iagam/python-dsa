{
 "cells": [
  {
   "cell_type": "markdown",
   "id": "28bfeff4",
   "metadata": {},
   "source": [
    "## The filter() Function\n",
    "\n",
    "The `filter()` function in Python is used to filter elements from an iterable (like a list or tuple) based on a function that returns `True` or `False`. It applies the function to each element of the iterable and returns an iterator containing only the elements for which the function returns `True`. <br>\n",
    "`filter()` function is often used with lambda functions for concise code, but it can also be used with regular functions and methods.\n",
    "\n",
    "### Syntax\n",
    "\n",
    "```python\n",
    "filter(function, iterable)\n",
    "```"
   ]
  },
  {
   "cell_type": "code",
   "execution_count": 2,
   "id": "4414663f",
   "metadata": {},
   "outputs": [
    {
     "name": "stdout",
     "output_type": "stream",
     "text": [
      "[1, 2, 3, 4, 5, 6, 7, 8, 9, 10, 11, 12, 13, 14, 15]\n",
      "[2, 4, 6, 8, 10, 12, 14]\n"
     ]
    }
   ],
   "source": [
    "## Using filter() function to filter out even numbers from a list\n",
    "\n",
    "numbers = [1,2,3,4,5,6,7,8,9,10,11,12,13,14,15]\n",
    "print(numbers)\n",
    "\n",
    "even_numbers = list(filter(lambda x: x%2==0, numbers))\n",
    "print(even_numbers)"
   ]
  },
  {
   "cell_type": "code",
   "execution_count": 7,
   "id": "317924d6",
   "metadata": {},
   "outputs": [
    {
     "name": "stdout",
     "output_type": "stream",
     "text": [
      "[1, 2, 3, 4, 5, 6, 7, 8, 9, 10, 11, 12, 13, 14, 15, 16, 17, 18, 19, 20]\n",
      "[6, 8, 10, 12, 14, 16, 18, 20]\n"
     ]
    }
   ],
   "source": [
    "## Using filter with a lambda functions and multiple conditions\n",
    "## Find all numbers that are even and greater than 5\n",
    "\n",
    "numbers = [i for i in range(1, 21)]\n",
    "print(numbers)\n",
    "\n",
    "even_and_gt_5 = list(filter(lambda x: x > 5 and x%2 == 0, numbers))\n",
    "print(even_and_gt_5)\n"
   ]
  },
  {
   "cell_type": "code",
   "execution_count": 13,
   "id": "57060c7b",
   "metadata": {},
   "outputs": [
    {
     "name": "stdout",
     "output_type": "stream",
     "text": [
      "[{'name': 'Alice', 'age': 30}, {'name': 'Charlie', 'age': 35}]\n",
      "['Alice', 'Charlie']\n"
     ]
    }
   ],
   "source": [
    "## Apply filter() and map() to check if the age is greater than 5 in the list of dictionaries and return names only\n",
    "\n",
    "people = [\n",
    "    {\"name\": \"Alice\", \"age\": 30},\n",
    "    {\"name\": \"Bob\", \"age\": 4},\n",
    "    {\"name\": \"Charlie\", \"age\": 35},\n",
    "]\n",
    "\n",
    "age_gt_5 = list(filter(lambda x: x.get('age') > 5, people))\n",
    "print(age_gt_5)\n",
    "\n",
    "names_age_gt_5 = list(map(lambda x: x.get('name'), age_gt_5))\n",
    "print(names_age_gt_5)"
   ]
  },
  {
   "cell_type": "markdown",
   "id": "e3c6a12f",
   "metadata": {},
   "source": [
    "## Conclusion\n",
    "\n",
    "The `filter()` function is a powerful tool for filtering elements in an iterable based on a condition. It can be used with both regular functions and lambda functions, making it versatile for various use cases. By understanding how to use `filter()`, you can write cleaner and more efficient code when working with collections of data."
   ]
  }
 ],
 "metadata": {
  "kernelspec": {
   "display_name": "venv",
   "language": "python",
   "name": "python3"
  },
  "language_info": {
   "codemirror_mode": {
    "name": "ipython",
    "version": 3
   },
   "file_extension": ".py",
   "mimetype": "text/x-python",
   "name": "python",
   "nbconvert_exporter": "python",
   "pygments_lexer": "ipython3",
   "version": "3.12.2"
  }
 },
 "nbformat": 4,
 "nbformat_minor": 5
}
