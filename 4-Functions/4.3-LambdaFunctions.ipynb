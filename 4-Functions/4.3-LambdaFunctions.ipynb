{
 "cells": [
  {
   "cell_type": "markdown",
   "id": "4bbd053a",
   "metadata": {},
   "source": [
    "## Lambda Functions\n",
    "\n",
    "#### Lambda functions are small anonymous functions defined with the `lambda` keyword. They can take any number of arguments but only have one expression. They are often used for short, throwaway functions that are not reused elsewhere in the code."
   ]
  },
  {
   "cell_type": "markdown",
   "id": "def96bc8",
   "metadata": {},
   "source": [
    "### Syntax\n",
    "\n",
    "```python\n",
    "lambda arguments: expression\n",
    "```\n",
    "\n",
    "- `lambda` is the keyword that signifies the start of a lambda function.\n",
    "- `arguments` are the input parameters (similar to regular function parameters).\n",
    "- `expression` is a single expression that the function evaluates and returns."
   ]
  },
  {
   "cell_type": "code",
   "execution_count": 2,
   "id": "c2f50f74",
   "metadata": {},
   "outputs": [
    {
     "name": "stdout",
     "output_type": "stream",
     "text": [
      "<class 'function'>\n",
      "15\n"
     ]
    }
   ],
   "source": [
    "# A simple lambda function that adds 10 to the input\n",
    "add_ten = lambda x: x + 10\n",
    "print(type(add_ten))  # Output: <class 'function'>\n",
    "# Using the lambda function\n",
    "print(add_ten(5))  # Output: 15"
   ]
  },
  {
   "cell_type": "code",
   "execution_count": 6,
   "id": "85f02dfd",
   "metadata": {},
   "outputs": [
    {
     "name": "stdout",
     "output_type": "stream",
     "text": [
      "Using the is_even function:\n",
      "True\n",
      "False\n",
      "\n",
      "Using the is_even_lambda function:\n",
      "True\n",
      "False\n"
     ]
    }
   ],
   "source": [
    "## A simple python function to check if a number is even\n",
    "\n",
    "def is_even(num):\n",
    "    \"\"\"Check if a number is even.\"\"\"\n",
    "    return num % 2 == 0\n",
    "\n",
    "# Using the function\n",
    "print('Using the is_even function:')\n",
    "print(is_even(4))  # Output: True\n",
    "print(is_even(5))  # Output: False\n",
    "print()\n",
    "\n",
    "# A simple lambda function to check if a number is even\n",
    "is_even_lambda = lambda num: num % 2 == 0\n",
    "print('Using the is_even_lambda function:')\n",
    "print(is_even_lambda(4))  # Output: True\n",
    "print(is_even_lambda(5))  # Output: False"
   ]
  }
 ],
 "metadata": {
  "kernelspec": {
   "display_name": "venv",
   "language": "python",
   "name": "python3"
  },
  "language_info": {
   "codemirror_mode": {
    "name": "ipython",
    "version": 3
   },
   "file_extension": ".py",
   "mimetype": "text/x-python",
   "name": "python",
   "nbconvert_exporter": "python",
   "pygments_lexer": "ipython3",
   "version": "3.12.2"
  }
 },
 "nbformat": 4,
 "nbformat_minor": 5
}
