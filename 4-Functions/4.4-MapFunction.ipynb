{
 "cells": [
  {
   "cell_type": "markdown",
   "id": "687c2efb",
   "metadata": {},
   "source": [
    "### The map() Function\n",
    "\n",
    "The `map()` function applies a given function to all items in an iterable (like a list) and returns a map object (which is an iterator). This is useful for transforming data without needing to write explicit loops.\n",
    "\n",
    "### Syntax\n",
    "\n",
    "```python\n",
    "map(function, iterable)\n",
    "```\n",
    "\n",
    "- `function` is the function to apply to each item.\n",
    "- `iterable` is the collection of items to process."
   ]
  },
  {
   "cell_type": "code",
   "execution_count": 4,
   "id": "559ca187",
   "metadata": {},
   "outputs": [
    {
     "name": "stdout",
     "output_type": "stream",
     "text": [
      "Using the square function:\n",
      "25\n",
      "Using the square lambda function:\n",
      "25\n"
     ]
    }
   ],
   "source": [
    "## If we have to calculate the square of a number, we can write a simple function like this:\n",
    "def square(x):\n",
    "    return x * x\n",
    "print('Using the square function:')\n",
    "print(square(5))  # Output: 25\n",
    "\n",
    "## Let's say we want to calculate the square of a number using a lambda function:\n",
    "square_lambda = lambda x: x ** 2\n",
    "print('Using the square lambda function:')\n",
    "print(square_lambda(5))  # Output: 25"
   ]
  },
  {
   "cell_type": "code",
   "execution_count": null,
   "id": "e00356b7",
   "metadata": {},
   "outputs": [
    {
     "name": "stdout",
     "output_type": "stream",
     "text": [
      "[1, 4, 9, 16, 25]\n"
     ]
    }
   ],
   "source": [
    "## Now let's suppose we have a list of numbers and we want to calculate the square of each number in that list.\n",
    "# We can use the `map` function along with a lambda function to achieve this:\n",
    "numbers = [1, 2, 3, 4, 5]\n",
    "squared = map(lambda x: x ** 2, numbers)\n",
    "print(list(squared))  # Output: [1, 4, 9, 16, 25]"
   ]
  },
  {
   "cell_type": "code",
   "execution_count": 8,
   "id": "ad566c49",
   "metadata": {},
   "outputs": [
    {
     "name": "stdout",
     "output_type": "stream",
     "text": [
      "[5, 7, 9, 11]\n"
     ]
    }
   ],
   "source": [
    "## A lambda function to map multiple iterables:\n",
    "\n",
    "numbers1 = [1, 2, 3, 4]\n",
    "numbers2 = [4, 5, 6, 7]\n",
    "summed = map(lambda x, y: x + y, numbers1, numbers2)\n",
    "print(list(summed))  # Output: [5, 7, 9]\n"
   ]
  },
  {
   "cell_type": "code",
   "execution_count": 2,
   "id": "b72ca68e",
   "metadata": {},
   "outputs": [
    {
     "name": "stdout",
     "output_type": "stream",
     "text": [
      "['HELLO', 'WORLD', 'PYTHON']\n"
     ]
    }
   ],
   "source": [
    "## Use lambda and map() function to convert a list of strings to uppercase:\n",
    "\n",
    "strings = ['hello', 'world', 'python']\n",
    "\n",
    "uppercase_strings = list(map(lambda x: x.upper(), strings))\n",
    "print(uppercase_strings)"
   ]
  },
  {
   "cell_type": "code",
   "execution_count": 3,
   "id": "509232ea",
   "metadata": {},
   "outputs": [
    {
     "name": "stdout",
     "output_type": "stream",
     "text": [
      "['Alice', 'Bob', 'Charlie']\n"
     ]
    }
   ],
   "source": [
    "# Use lambda and map() to extract names from a list of dictionaries\n",
    "people = [\n",
    "    {'name': 'Alice', 'age': 30},\n",
    "    {'name': 'Bob', 'age': 25},\n",
    "    {'name': 'Charlie', 'age': 35}\n",
    "]\n",
    "\n",
    "names = list(map(lambda x: x.get('name'), people))\n",
    "print(names)"
   ]
  },
  {
   "cell_type": "markdown",
   "id": "c6ff18fb",
   "metadata": {},
   "source": [
    "### Conclusion\n",
    "\n",
    "The `map()` function is a powerful tool for applying transformations to data in a concise and readable way. It can be used with both named functions and lambda expressions, making it versatile for various use cases."
   ]
  }
 ],
 "metadata": {
  "kernelspec": {
   "display_name": "venv",
   "language": "python",
   "name": "python3"
  },
  "language_info": {
   "codemirror_mode": {
    "name": "ipython",
    "version": 3
   },
   "file_extension": ".py",
   "mimetype": "text/x-python",
   "name": "python",
   "nbconvert_exporter": "python",
   "pygments_lexer": "ipython3",
   "version": "3.12.2"
  }
 },
 "nbformat": 4,
 "nbformat_minor": 5
}
