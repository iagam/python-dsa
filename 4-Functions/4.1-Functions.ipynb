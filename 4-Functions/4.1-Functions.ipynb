{
 "cells": [
  {
   "cell_type": "markdown",
   "id": "c93a68b9",
   "metadata": {},
   "source": [
    "# Functions in Python\n",
    "\n",
    "\n",
    "1. Introduction to Functions\n",
    "2. Defining Functions\n",
    "3. Calling Functions\n",
    "4. Function Parameters\n",
    "5. Default Parameters\n",
    "6. Variable-Length Arguments\n",
    "7. Return Statement\n"
   ]
  },
  {
   "cell_type": "markdown",
   "id": "9c71d49e",
   "metadata": {},
   "source": [
    "#### A function is a block of code that performs a specific task. Functions help in organising, reusing and improving overall readability of code."
   ]
  },
  {
   "cell_type": "code",
   "execution_count": null,
   "id": "ff5c7398",
   "metadata": {},
   "outputs": [],
   "source": [
    "## Basic function syntax\n",
    "\n",
    "def function_name(parameters):\n",
    "    \"\"\"\n",
    "    Docstring: This is a brief description of what the function does.\n",
    "    \"\"\"\n",
    "    # Function body\n",
    "    pass\n",
    "    return None  # Optional return statement"
   ]
  },
  {
   "cell_type": "code",
   "execution_count": null,
   "id": "c138bddc",
   "metadata": {},
   "outputs": [
    {
     "name": "stdout",
     "output_type": "stream",
     "text": [
      "5 is odd\n",
      "This is a simple check for even or odd numbers without using a function.\n",
      "However, if we need to check multiple numbers, repeating this logic can be inefficient.\n",
      "\n",
      "Using functions, we can encapsulate this logic for reuse.\n",
      "7 is odd\n"
     ]
    }
   ],
   "source": [
    "## Why use functions?\n",
    "## Functions are used to encapsulate code that performs a specific task, making it reusable and easier to manage.\n",
    "# They help in organizing code, reducing redundancy, and improving readability.\n",
    "\n",
    "num = 5\n",
    "if num%2 == 0:\n",
    "    print(f\"{num} is even\")\n",
    "else:\n",
    "    print(f\"{num} is odd\")\n",
    "print(\"This is a simple check for even or odd numbers without using a function.\")\n",
    "print(\"However, if we need to check multiple numbers, repeating this logic can be inefficient.\")\n",
    "print()\n",
    "print(\"Using functions, we can encapsulate this logic for reuse.\")\n",
    "\n",
    "# Example of a function to check if a number is even or odd\n",
    "def is_even_or_odd(num):\n",
    "    \"\"\"\n",
    "    Check if a number is even or odd.\n",
    "\n",
    "    Parameters:\n",
    "    num (int): The number to check.\n",
    "\n",
    "    Returns:\n",
    "    str: \"even\" if the number is even, \"odd\" otherwise.\n",
    "    \"\"\"\n",
    "    return \"even\" if num % 2 == 0 else \"odd\"\n",
    "\n",
    "# Example usage\n",
    "number = 7\n",
    "result = is_even_or_odd(number)\n",
    "print(f\"{number} is {result}\")"
   ]
  },
  {
   "cell_type": "code",
   "execution_count": null,
   "id": "d3567fc6",
   "metadata": {},
   "outputs": [
    {
     "name": "stdout",
     "output_type": "stream",
     "text": [
      "The sum of 10 and 5 is 15\n"
     ]
    }
   ],
   "source": [
    "## Functions can also take multiple parameters and return values.\n",
    "\n",
    "def add_numbers(a, b):\n",
    "    \"\"\"\n",
    "    Add two numbers and return the result.\n",
    "\n",
    "    Parameters:\n",
    "    a (int or float): The first number.\n",
    "    b (int or float): The second number.\n",
    "\n",
    "    Returns:\n",
    "    int or float: The sum of a and b.\n",
    "    \"\"\"\n",
    "    return a + b\n",
    "\n",
    "# Example usage\n",
    "num1 = 10\n",
    "num2 = 5\n",
    "sum_result = add_numbers(num1, num2)\n",
    "print(f\"The sum of {num1} and {num2} is {sum_result}\")"
   ]
  },
  {
   "cell_type": "code",
   "execution_count": 6,
   "id": "0b285883",
   "metadata": {},
   "outputs": [
    {
     "name": "stdout",
     "output_type": "stream",
     "text": [
      "Hello, Alice!\n",
      "Hi, Bob!\n"
     ]
    }
   ],
   "source": [
    "# Functions with default parameters\n",
    "# A function can have default parameter values, which are used if no argument is provided for that parameter.\n",
    "def greet(name, greeting=\"Hello\"):\n",
    "    \"\"\"\n",
    "    Greet a person with a specified greeting.\n",
    "\n",
    "    Parameters:\n",
    "    name (str): The name of the person.\n",
    "    greeting (str): The greeting to use. Defaults to \"Hello\".\n",
    "\n",
    "    Returns:\n",
    "    str: A greeting message.\n",
    "    \"\"\"\n",
    "    return f\"{greeting}, {name}!\"\n",
    "\n",
    "# Example usage\n",
    "print(greet(\"Alice\"))  # Uses default greeting\n",
    "print(greet(\"Bob\", \"Hi\"))  # Uses custom greeting"
   ]
  },
  {
   "cell_type": "code",
   "execution_count": 7,
   "id": "4a910c57",
   "metadata": {},
   "outputs": [
    {
     "name": "stdout",
     "output_type": "stream",
     "text": [
      "6\n",
      "15\n"
     ]
    }
   ],
   "source": [
    "## Variable length arguments\n",
    "# Functions can accept a variable number of arguments using *args and **kwargs.\n",
    "## *args allows passing a variable number of positional arguments\n",
    "## while **kwargs allows passing a variable number of keyword arguments.\n",
    "## Positional arguments are passed as a tuple, and keyword arguments are passed as a dictionary.\n",
    "\n",
    "## Positional arguments\n",
    "def sum_all(*args):\n",
    "    \"\"\"\n",
    "    Sum all positional arguments.\n",
    "\n",
    "    Parameters:\n",
    "    *args: Variable number of positional arguments.\n",
    "\n",
    "    Returns:\n",
    "    int or float: The sum of all arguments.\n",
    "    \"\"\"\n",
    "    return sum(args)\n",
    "\n",
    "# Example usage\n",
    "print(sum_all(1, 2, 3))  # Output: 6\n",
    "print(sum_all(1, 2, 3, 4, 5))\n",
    "\n"
   ]
  },
  {
   "cell_type": "code",
   "execution_count": null,
   "id": "e420a36a",
   "metadata": {},
   "outputs": [
    {
     "name": "stdout",
     "output_type": "stream",
     "text": [
      "name: Alice\n",
      "age: 30\n",
      "city: New York\n"
     ]
    }
   ],
   "source": [
    "## Keyword arguments\n",
    "# Keyword arguments are passed as a dictionary.\n",
    "\n",
    "def print_info(**kwargs):\n",
    "    \"\"\"\n",
    "    Print information about a person.\n",
    "\n",
    "    Parameters:\n",
    "    **kwargs: Variable number of keyword arguments representing person attributes.\n",
    "\n",
    "    Returns:\n",
    "    None\n",
    "    \"\"\"\n",
    "    for key, value in kwargs.items():\n",
    "        print(f\"{key}: {value}\")\n",
    "\n",
    "# Example usage\n",
    "print_info(name=\"Alice\", age=30, city=\"New York\")"
   ]
  },
  {
   "cell_type": "code",
   "execution_count": 11,
   "id": "350a8ef5",
   "metadata": {},
   "outputs": [
    {
     "name": "stdout",
     "output_type": "stream",
     "text": [
      "Positional arguments: ('Alice', 'Engineer')\n",
      "Keyword arguments: {'age': 30, 'city': 'New York'}\n",
      "\n",
      "Positional arguments: ('Bob', 'Doctor')\n",
      "Keyword arguments: {'age': 35}\n",
      "\n",
      "Positional arguments: ('Charlie', 'Teacher')\n",
      "Keyword arguments: {'city': 'Los Angeles', 'country': 'USA'}\n",
      "\n"
     ]
    }
   ],
   "source": [
    "## Functions with both positional and keyword arguments\n",
    "## Functions can accept both positional and keyword arguments, allowing for flexible function calls.\n",
    "## Keyword arguments can be used to provide default values for parameters, making them optional.\n",
    "## Positional arguments are passed first, followed by keyword arguments.\n",
    "\n",
    "def print_details(*args, **kwargs):\n",
    "    \"\"\"\n",
    "    Print details about a person.\n",
    "\n",
    "    Parameters:\n",
    "    *args: Variable number of positional arguments.\n",
    "    **kwargs: Variable number of keyword arguments representing person attributes.\n",
    "\n",
    "    Returns:\n",
    "    None\n",
    "    \"\"\"\n",
    "    print(\"Positional arguments:\", args)\n",
    "    print(\"Keyword arguments:\", kwargs)\n",
    "    print()\n",
    "\n",
    "# Example usage\n",
    "print_details(\"Alice\", \"Engineer\", age=30, city=\"New York\")\n",
    "print_details(\"Bob\", \"Doctor\", age=35)\n",
    "print_details(\"Charlie\", \"Teacher\", city=\"Los Angeles\", country=\"USA\")"
   ]
  },
  {
   "cell_type": "code",
   "execution_count": 12,
   "id": "21b7f98f",
   "metadata": {},
   "outputs": [
    {
     "name": "stdout",
     "output_type": "stream",
     "text": [
      "The product of 3 and 4 is 12\n"
     ]
    }
   ],
   "source": [
    "## Return in functions\n",
    "# The return statement is used to exit a function and return a value to the caller.\n",
    "# If no return statement is provided, the function returns None by default.\n",
    "\n",
    "## Return values\n",
    "def multiply(a, b):\n",
    "    \"\"\"\n",
    "    Multiply two numbers and return the result.\n",
    "\n",
    "    Parameters:\n",
    "    a (int or float): The first number.\n",
    "    b (int or float): The second number.\n",
    "\n",
    "    Returns:\n",
    "    int or float: The product of a and b.\n",
    "    \"\"\"\n",
    "    return a * b\n",
    "\n",
    "# Example usage\n",
    "result = multiply(3, 4)\n",
    "print(f\"The product of 3 and 4 is {result}\")"
   ]
  },
  {
   "cell_type": "code",
   "execution_count": 14,
   "id": "f7c40d43",
   "metadata": {},
   "outputs": [
    {
     "name": "stdout",
     "output_type": "stream",
     "text": [
      "The dividend is 10 and the divisor is 3\n",
      "The quotient is 3 and the remainder is 1\n"
     ]
    }
   ],
   "source": [
    "## Returning multiple values\n",
    "# Functions can return multiple values as a tuple, which can be unpacked into separate variables.\n",
    "def divide(a, b):\n",
    "    \"\"\"\n",
    "    Divide two numbers and return the quotient and remainder.\n",
    "\n",
    "    Parameters:\n",
    "    a (int or float): The dividend.\n",
    "    b (int or float): The divisor.\n",
    "\n",
    "    Returns:\n",
    "    tuple: A tuple containing the quotient and remainder.\n",
    "    \"\"\"\n",
    "    quotient = a // b\n",
    "    remainder = a % b\n",
    "    return a, b, quotient, remainder\n",
    "\n",
    "# Example usage\n",
    "result = divide(10, 3)\n",
    "print(f\"The dividend is {result[0]} and the divisor is {result[1]}\")\n",
    "print(f\"The quotient is {result[2]} and the remainder is {result[3]}\")"
   ]
  }
 ],
 "metadata": {
  "kernelspec": {
   "display_name": "venv",
   "language": "python",
   "name": "python3"
  },
  "language_info": {
   "codemirror_mode": {
    "name": "ipython",
    "version": 3
   },
   "file_extension": ".py",
   "mimetype": "text/x-python",
   "name": "python",
   "nbconvert_exporter": "python",
   "pygments_lexer": "ipython3",
   "version": "3.12.2"
  }
 },
 "nbformat": 4,
 "nbformat_minor": 5
}
